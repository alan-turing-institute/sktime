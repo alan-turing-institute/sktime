{
 "cells": [
  {
   "cell_type": "code",
   "execution_count": 26,
   "metadata": {},
   "outputs": [],
   "source": [
    "import pydicom\n",
    "from itertools import islice\n",
    "import numpy as np\n",
    "import struct"
   ]
  },
  {
   "cell_type": "code",
   "execution_count": 2,
   "metadata": {},
   "outputs": [],
   "source": [
    "dataset = pydicom.dcmread('anonymous_ecg.dcm')\n",
    "\n",
    "# 'anonymous_ecg.dcm' was taken from https://github.com/marcodebe/dicom-ecg-plot"
   ]
  },
  {
   "cell_type": "code",
   "execution_count": 16,
   "metadata": {},
   "outputs": [
    {
     "name": "stdout",
     "output_type": "stream",
     "text": [
      "Dataset.file_meta -------------------------------\n",
      "(0002, 0000) File Meta Information Group Length  UL: 176\n",
      "(0002, 0001) File Meta Information Version       OB: b'\\x00\\x01'\n",
      "(0002, 0002) Media Storage SOP Class UID         UI: 12-lead ECG Waveform Storage\n",
      "(0002, 0003) Media Storage SOP Instance UID      UI: 1.3.6.1.4.1.20029.40.20130125105919.5407.1.1\n",
      "(0002, 0010) Transfer Syntax UID                 UI: Explicit VR Little Endian\n",
      "(0002, 0012) Implementation Class UID            UI: 1.3.76.13.1.1.1.1\n",
      "(0002, 0013) Implementation Version Name         SH: 'AISDWAM40'\n",
      "-------------------------------------------------\n",
      "(0008, 0005) Specific Character Set              CS: 'ISO_IR 100'\n",
      "(0008, 0012) Instance Creation Date              DA: '20130125'\n",
      "(0008, 0013) Instance Creation Time              TM: \n"
     ]
    }
   ],
   "source": [
    "print(str(dataset)[:800])"
   ]
  },
  {
   "cell_type": "code",
   "execution_count": 4,
   "metadata": {},
   "outputs": [
    {
     "data": {
      "text/plain": [
       "(0002, 0000) File Meta Information Group Length  UL: 176\n",
       "(0002, 0001) File Meta Information Version       OB: b'\\x00\\x01'\n",
       "(0002, 0002) Media Storage SOP Class UID         UI: 12-lead ECG Waveform Storage\n",
       "(0002, 0003) Media Storage SOP Instance UID      UI: 1.3.6.1.4.1.20029.40.20130125105919.5407.1.1\n",
       "(0002, 0010) Transfer Syntax UID                 UI: Explicit VR Little Endian\n",
       "(0002, 0012) Implementation Class UID            UI: 1.3.76.13.1.1.1.1\n",
       "(0002, 0013) Implementation Version Name         SH: 'AISDWAM40'"
      ]
     },
     "execution_count": 4,
     "metadata": {},
     "output_type": "execute_result"
    }
   ],
   "source": [
    "dataset.file_meta"
   ]
  },
  {
   "cell_type": "code",
   "execution_count": 5,
   "metadata": {},
   "outputs": [
    {
     "data": {
      "text/plain": [
       "(0002, 0013) Implementation Version Name         SH: 'AISDWAM40'"
      ]
     },
     "execution_count": 5,
     "metadata": {},
     "output_type": "execute_result"
    }
   ],
   "source": [
    "dataset.file_meta[(0x0002, 0x0013)]"
   ]
  },
  {
   "cell_type": "code",
   "execution_count": 6,
   "metadata": {},
   "outputs": [
    {
     "data": {
      "text/plain": [
       "(0008, 0005) Specific Character Set              CS: 'ISO_IR 100'"
      ]
     },
     "execution_count": 6,
     "metadata": {},
     "output_type": "execute_result"
    }
   ],
   "source": [
    "dataset[0x0008, 0x0005]  # note, keys are hexadecimals"
   ]
  },
  {
   "cell_type": "code",
   "execution_count": 7,
   "metadata": {},
   "outputs": [
    {
     "data": {
      "text/plain": [
       "'ISO_IR 100'"
      ]
     },
     "execution_count": 7,
     "metadata": {},
     "output_type": "execute_result"
    }
   ],
   "source": [
    "dataset[0x0008, 0x0005].value"
   ]
  },
  {
   "cell_type": "code",
   "execution_count": 8,
   "metadata": {},
   "outputs": [
    {
     "data": {
      "text/plain": [
       "'ISO_IR 100'"
      ]
     },
     "execution_count": 8,
     "metadata": {},
     "output_type": "execute_result"
    }
   ],
   "source": [
    "dataset.SpecificCharacterSet  # here we access the same entry by name"
   ]
  },
  {
   "cell_type": "code",
   "execution_count": 9,
   "metadata": {},
   "outputs": [
    {
     "data": {
      "text/plain": [
       "<Sequence, length 2>"
      ]
     },
     "execution_count": 9,
     "metadata": {},
     "output_type": "execute_result"
    }
   ],
   "source": [
    "dataset.WaveformSequence  # this entry is getting us closer to the actual readings"
   ]
  },
  {
   "cell_type": "code",
   "execution_count": 10,
   "metadata": {},
   "outputs": [],
   "source": [
    "# adapting code from https://github.com/marcodebe/dicom-ecg-plot\n",
    "\n",
    "sequence_item = dataset.WaveformSequence[0]\n",
    "\n",
    "assert (sequence_item.WaveformSampleInterpretation == 'SS')\n",
    "assert (sequence_item.WaveformBitsAllocated == 16)\n",
    "\n",
    "channel_definitions = sequence_item.ChannelDefinitionSequence\n",
    "wavewform_data = sequence_item.WaveformData\n",
    "channels_no = sequence_item.NumberOfWaveformChannels\n",
    "samples = sequence_item.NumberOfWaveformSamples\n",
    "sampling_frequency = sequence_item.SamplingFrequency\n",
    "duration = samples / sampling_frequency"
   ]
  },
  {
   "cell_type": "code",
   "execution_count": 37,
   "metadata": {},
   "outputs": [
    {
     "data": {
      "text/plain": [
       "b'P\\x00Z\\x00\\n\\x00\\xab\\xff#\\x002\\x00(\\x00\\x0f\\x00\\xf6\\xff\\xec\\xff\\xc9\\xff\\xd8\\xffA\\x00U\\x00\\x14\\x00'"
      ]
     },
     "execution_count": 37,
     "metadata": {},
     "output_type": "execute_result"
    }
   ],
   "source": [
    "sequence_item.WaveformData[:30]"
   ]
  },
  {
   "cell_type": "code",
   "execution_count": 17,
   "metadata": {},
   "outputs": [
    {
     "data": {
      "text/plain": [
       "12"
      ]
     },
     "execution_count": 17,
     "metadata": {},
     "output_type": "execute_result"
    }
   ],
   "source": [
    "channels_no"
   ]
  },
  {
   "cell_type": "code",
   "execution_count": 18,
   "metadata": {},
   "outputs": [
    {
     "data": {
      "text/plain": [
       "(003a, 0208)  Channel Source Sequence   1 item(s) ---- \n",
       "   (0008, 0100) Code Value                          SH: '5.6.3-9-1'\n",
       "   (0008, 0102) Coding Scheme Designator            SH: 'SCPECG'\n",
       "   (0008, 0103) Coding Scheme Version               SH: '1.3'\n",
       "   (0008, 0104) Code Meaning                        LO: 'Lead I (Einthoven)'\n",
       "   ---------\n",
       "(003a, 0210) Channel Sensitivity                 DS: \"1.25\"\n",
       "(003a, 0211)  Channel Sensitivity Units Sequence   1 item(s) ---- \n",
       "   (0008, 0100) Code Value                          SH: 'uV'\n",
       "   (0008, 0102) Coding Scheme Designator            SH: 'UCUM'\n",
       "   (0008, 0103) Coding Scheme Version               SH: '1.4'\n",
       "   (0008, 0104) Code Meaning                        LO: 'microvolt'\n",
       "   ---------\n",
       "(003a, 0212) Channel Sensitivity Correction Fact DS: \"1.0\"\n",
       "(003a, 0213) Channel Baseline                    DS: \"0.0\"\n",
       "(003a, 0215) Channel Sample Skew                 DS: \"0.0\"\n",
       "(003a, 021a) Waveform Bits Stored                US: 16\n",
       "(003a, 0220) Filter Low Frequency                DS: \"0.05\"\n",
       "(003a, 0221) Filter High Frequency               DS: \"300.0\"\n",
       "(003a, 0222) Notch Filter Frequency              DS: \"0.0\""
      ]
     },
     "execution_count": 18,
     "metadata": {},
     "output_type": "execute_result"
    }
   ],
   "source": [
    "channel_definitions[0]"
   ]
  },
  {
   "cell_type": "code",
   "execution_count": 30,
   "metadata": {},
   "outputs": [],
   "source": [
    "# adapting code from https://github.com/marcodebe/dicom-ecg-plot\n",
    "\n",
    "def signals():\n",
    "    factor = np.zeros(channels_no) + 1\n",
    "    baseln = np.zeros(channels_no)\n",
    "    units = []\n",
    "    for idx in range(channels_no):\n",
    "        definition = channel_definitions[idx]\n",
    "\n",
    "        assert (definition.WaveformBitsStored == 16)\n",
    "\n",
    "        if definition.get('ChannelSensitivity'):\n",
    "            factor[idx] = (\n",
    "                float(definition.ChannelSensitivity) *\n",
    "                float(definition.ChannelSensitivityCorrectionFactor)\n",
    "            )\n",
    "\n",
    "        if definition.get('ChannelBaseline'):\n",
    "            baseln[idx] = float(definition.get('ChannelBaseline'))\n",
    "\n",
    "        units.append(\n",
    "            definition.ChannelSensitivityUnitsSequence[0].CodeValue\n",
    "        )\n",
    "\n",
    "    unpack_fmt = '<%dh' % (len(wavewform_data) / 2)\n",
    "    unpacked_waveform_data = struct.unpack(unpack_fmt, wavewform_data)\n",
    "    signals = np.asarray(\n",
    "        unpacked_waveform_data,\n",
    "        dtype=np.float32).reshape(\n",
    "        samples,\n",
    "        channels_no).transpose()\n",
    "\n",
    "    for channel in range(channels_no):\n",
    "        signals[channel] = (\n",
    "            (signals[channel] + baseln[channel]) * factor[channel]\n",
    "        )\n",
    "\n",
    "    high = 40.0\n",
    "\n",
    "    # conversion factor to obtain millivolts values\n",
    "    millivolts = {'uV': 1000.0, 'mV': 1.0}\n",
    "\n",
    "#     for i, signal in enumerate(signals):\n",
    "#         signals[i] = butter_lowpass_filter(\n",
    "#             np.asarray(signal),\n",
    "#             high,\n",
    "#             self.sampling_frequency,\n",
    "#             order=2\n",
    "#         ) / millivolts[units[i]]\n",
    "\n",
    "    return signals"
   ]
  },
  {
   "cell_type": "code",
   "execution_count": 32,
   "metadata": {},
   "outputs": [],
   "source": [
    "raw_signals_extracted = signals()"
   ]
  },
  {
   "cell_type": "code",
   "execution_count": 33,
   "metadata": {},
   "outputs": [
    {
     "data": {
      "text/plain": [
       "array([[ 100.  ,   81.25,   62.5 , ...,   25.  ,   21.25,   25.  ],\n",
       "       [ 112.5 ,  106.25,  100.  , ...,  131.25,  137.5 ,  137.5 ],\n",
       "       [  12.5 ,   25.  ,   37.5 , ...,  106.25,  116.25,  112.5 ],\n",
       "       ...,\n",
       "       [ -25.  ,  -25.  ,  -25.  , ..., -137.5 , -137.5 , -137.5 ],\n",
       "       [ -68.75,  -75.  ,  -81.25, ..., -150.  , -150.  , -150.  ],\n",
       "       [ -50.  ,  -50.  ,  -50.  , ..., -100.  , -106.25, -112.5 ]],\n",
       "      dtype=float32)"
      ]
     },
     "execution_count": 33,
     "metadata": {},
     "output_type": "execute_result"
    }
   ],
   "source": [
    "raw_signals_extracted"
   ]
  },
  {
   "cell_type": "code",
   "execution_count": 34,
   "metadata": {},
   "outputs": [
    {
     "data": {
      "text/plain": [
       "(12, 10000)"
      ]
     },
     "execution_count": 34,
     "metadata": {},
     "output_type": "execute_result"
    }
   ],
   "source": [
    "raw_signals_extracted.shape"
   ]
  },
  {
   "cell_type": "code",
   "execution_count": 43,
   "metadata": {},
   "outputs": [],
   "source": [
    "import pandas as pd\n",
    "from sktime.utils.plotting.forecasting import plot_ys\n",
    "\n",
    "%matplotlib inline"
   ]
  },
  {
   "cell_type": "code",
   "execution_count": 44,
   "metadata": {},
   "outputs": [],
   "source": [
    "y = pd.Series(raw_signals_extracted[0, :])"
   ]
  },
  {
   "cell_type": "code",
   "execution_count": 46,
   "metadata": {},
   "outputs": [
    {
     "data": {
      "image/png": "[encoded data removed]",
      "text/plain": [
       "<Figure size 1152x288 with 1 Axes>"
      ]
     },
     "metadata": {
      "needs_background": "light"
     },
     "output_type": "display_data"
    }
   ],
   "source": [
    "fig, ax = plot_ys(y)\n",
    "ax.set(xlabel=\"Time\", ylabel=\"ECG (raw)\");"
   ]
  },
  {
   "cell_type": "code",
   "execution_count": null,
   "metadata": {},
   "outputs": [],
   "source": []
  }
 ],
 "metadata": {
  "kernelspec": {
   "display_name": "Python 3",
   "language": "python",
   "name": "python3"
  },
  "language_info": {
   "codemirror_mode": {
    "name": "ipython",
    "version": 3
   },
   "file_extension": ".py",
   "mimetype": "text/x-python",
   "name": "python",
   "nbconvert_exporter": "python",
   "pygments_lexer": "ipython3",
   "version": "3.8.2"
  }
 },
 "nbformat": 4,
 "nbformat_minor": 4
}
