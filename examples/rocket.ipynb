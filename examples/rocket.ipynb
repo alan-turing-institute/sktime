{
 "cells": [
  {
   "cell_type": "markdown",
   "metadata": {},
   "source": [
<<<<<<< HEAD
    "# ROCKET"
   ]
  },
  {
   "cell_type": "markdown",
   "metadata": {},
   "source": [
    "[Github weblink](https://github.com/alan-turing-institute/sktime/blob/master/examples/rocket.ipynb)"
   ]
  },
  {
   "cell_type": "markdown",
   "metadata": {},
   "source": [
    "# Overview\n",
    "\n",
    "ROCKET [1] transforms time series using random convolutional kernels (random length, weights, bias, dilation, and padding). ROCKET computes two features from the resulting feature maps: the max, and the proportion of positive values (or ppv). The transformed features are used to train a linear classifier.\n",
    "\n",
    "[1] Dempster A, Petitjean F, Webb GI (2019) ROCKET: Exceptionally fast and accurate time series classification using random convolutional kernels. [arXiv:1910.13051](https://arxiv.org/abs/1910.13051)"
   ]
  },
  {
   "cell_type": "markdown",
   "metadata": {},
   "source": [
    "***"
   ]
  },
  {
   "cell_type": "markdown",
   "metadata": {},
   "source": [
    "# Contents\n",
=======
    "# Demo of ROCKET transform\n",
    "\n",
    "## Overview\n",
    "\n",
    "ROCKET [1] transforms time series using random convolutional kernels (random length, weights, bias, dilation, and padding). ROCKET computes two features from the resulting feature maps: the max, and the proportion of positive values (or ppv). The transformed features are used to train a linear classifier.\n",
    "\n",
    "[1] Dempster A, Petitjean F, Webb GI (2019) ROCKET: Exceptionally fast and accurate time series classification using random convolutional kernels. [arXiv:1910.13051](https://arxiv.org/abs/1910.13051)\n",
    "\n",
    "***\n",
    "\n",
    "## Contents\n",
>>>>>>> 67c56be8b1e838f2628df829946f795b7dba9aed
    "\n",
    "1. Imports\n",
    "2. Univariate Time Series\n",
    "3. Multivariate Time Series\n",
<<<<<<< HEAD
    "4. Pipeline Example"
   ]
  },
  {
   "cell_type": "markdown",
   "metadata": {},
   "source": [
    "***"
   ]
  },
  {
   "cell_type": "markdown",
   "metadata": {},
   "source": [
    "# 1 Imports"
   ]
  },
  {
   "cell_type": "markdown",
   "metadata": {},
   "source": [
=======
    "4. Pipeline Example\n",
    "\n",
    "***\n",
    "\n",
    "## 1 Imports\n",
    "\n",
>>>>>>> 67c56be8b1e838f2628df829946f795b7dba9aed
    "Import example data, ROCKET, and a classifier (`RidgeClassifierCV` from scikit-learn), as well as NumPy and `make_pipeline` from scikit-learn.\n",
    "\n",
    "**Note**: ROCKET compiles (via Numba) on import, which may take a few seconds."
   ]
  },
  {
   "cell_type": "code",
   "execution_count": 1,
   "metadata": {},
   "outputs": [],
   "source": [
<<<<<<< HEAD
    "import numpy as np\n",
    "\n",
    "from sktime.datasets import load_gunpoint             # univariate dataset\n",
    "from sktime.datasets.base import load_japanese_vowels # multivariate dataset\n",
    "\n",
    "from sktime.transformers.rocket import Rocket\n",
    "from sklearn.linear_model import RidgeClassifierCV\n",
    "\n",
    "from sklearn.pipeline import make_pipeline"
   ]
  },
  {
   "cell_type": "markdown",
   "metadata": {},
   "source": [
    "***"
   ]
  },
  {
   "cell_type": "markdown",
   "metadata": {},
   "source": [
    "# 2 Univariate Time Series"
   ]
  },
  {
   "cell_type": "markdown",
   "metadata": {},
   "source": [
    "We can transform the data using ROCKET and separately fit a classifier, or we can use ROCKET together with a classifier in a pipeline (section 4, below)."
=======
    "# !pip install --upgrade numba"
   ]
  },
  {
   "cell_type": "code",
   "execution_count": 2,
   "metadata": {},
   "outputs": [],
   "source": [
    "import numpy as np\n",
    "from sklearn.linear_model import RidgeClassifierCV\n",
    "from sklearn.pipeline import make_pipeline\n",
    "from sktime.datasets import load_arrow_head  # univariate dataset\n",
    "from sktime.datasets.base import load_japanese_vowels  # multivariate dataset\n",
    "from sktime.transformers.series_as_features.rocket import Rocket"
>>>>>>> 67c56be8b1e838f2628df829946f795b7dba9aed
   ]
  },
  {
   "cell_type": "markdown",
   "metadata": {},
   "source": [
<<<<<<< HEAD
    "## 2.1 Load the Training Data"
=======
    "## 2 Univariate Time Series\n",
    "\n",
    "We can transform the data using ROCKET and separately fit a classifier, or we can use ROCKET together with a classifier in a pipeline (section 4, below).\n",
    "\n",
    "### 2.1 Load the Training Data\n",
    "For more details on the data set, see the [univariate time series classification notebook](https://github.com/alan-turing-institute/sktime/blob/master/examples/01_classification_univariate.ipynb)."
>>>>>>> 67c56be8b1e838f2628df829946f795b7dba9aed
   ]
  },
  {
   "cell_type": "code",
<<<<<<< HEAD
   "execution_count": 2,
   "metadata": {},
   "outputs": [],
   "source": [
    "X_training, Y_training = load_gunpoint(split = \"TRAIN\", return_X_y = True)"
=======
   "execution_count": 3,
   "metadata": {},
   "outputs": [],
   "source": [
    "X_train, y_train = load_arrow_head(split=\"train\", return_X_y=True)"
>>>>>>> 67c56be8b1e838f2628df829946f795b7dba9aed
   ]
  },
  {
   "cell_type": "markdown",
   "metadata": {},
   "source": [
<<<<<<< HEAD
    "## 2.2 Initialise ROCKET and Transform the Training Data"
=======
    "### 2.2 Initialise ROCKET and Transform the Training Data"
>>>>>>> 67c56be8b1e838f2628df829946f795b7dba9aed
   ]
  },
  {
   "cell_type": "code",
<<<<<<< HEAD
   "execution_count": 3,
=======
   "execution_count": 4,
>>>>>>> 67c56be8b1e838f2628df829946f795b7dba9aed
   "metadata": {},
   "outputs": [],
   "source": [
    "rocket = Rocket() # by default, ROCKET uses 10,000 kernels\n",
<<<<<<< HEAD
    "\n",
    "rocket.fit(X_training)\n",
    "\n",
    "X_training_transform = rocket.transform(X_training)"
=======
    "rocket.fit(X_train)\n",
    "X_train_transform = rocket.transform(X_train)"
>>>>>>> 67c56be8b1e838f2628df829946f795b7dba9aed
   ]
  },
  {
   "cell_type": "markdown",
   "metadata": {},
   "source": [
<<<<<<< HEAD
    "## 2.3 Fit a Classifier"
=======
    "### 2.3 Fit a Classifier"
>>>>>>> 67c56be8b1e838f2628df829946f795b7dba9aed
   ]
  },
  {
   "cell_type": "markdown",
   "metadata": {},
   "source": [
    "We recommend using `RidgeClassifierCV` from scikit-learn for smaller datasets (fewer than approx. 20K training examples), and using logistic regression trained using stochastic gradient descent for larger datasets."
   ]
  },
  {
   "cell_type": "code",
<<<<<<< HEAD
   "execution_count": 4,
=======
   "execution_count": 5,
>>>>>>> 67c56be8b1e838f2628df829946f795b7dba9aed
   "metadata": {},
   "outputs": [
    {
     "data": {
      "text/plain": [
       "RidgeClassifierCV(alphas=array([1.00000000e-03, 4.64158883e-03, 2.15443469e-02, 1.00000000e-01,\n",
       "       4.64158883e-01, 2.15443469e+00, 1.00000000e+01, 4.64158883e+01,\n",
       "       2.15443469e+02, 1.00000000e+03]),\n",
<<<<<<< HEAD
       "                  class_weight=None, cv=None, fit_intercept=True,\n",
       "                  normalize=True, scoring=None, store_cv_values=False)"
      ]
     },
     "execution_count": 4,
=======
       "                  normalize=True)"
      ]
     },
     "execution_count": 5,
>>>>>>> 67c56be8b1e838f2628df829946f795b7dba9aed
     "metadata": {},
     "output_type": "execute_result"
    }
   ],
   "source": [
    "classifier = RidgeClassifierCV(alphas = np.logspace(-3, 3, 10),\n",
    "                               normalize = True)\n",
<<<<<<< HEAD
    "\n",
    "classifier.fit(X_training_transform, Y_training)"
=======
    "classifier.fit(X_train_transform, y_train)"
>>>>>>> 67c56be8b1e838f2628df829946f795b7dba9aed
   ]
  },
  {
   "cell_type": "markdown",
   "metadata": {},
   "source": [
<<<<<<< HEAD
    "## 2.4 Load and Transform the Test Data"
=======
    "### 2.4 Load and Transform the Test Data"
>>>>>>> 67c56be8b1e838f2628df829946f795b7dba9aed
   ]
  },
  {
   "cell_type": "code",
<<<<<<< HEAD
   "execution_count": 5,
   "metadata": {},
   "outputs": [],
   "source": [
    "X_test, Y_test = load_gunpoint(split = \"TEST\", return_X_y = True)\n",
    "\n",
=======
   "execution_count": 6,
   "metadata": {},
   "outputs": [],
   "source": [
    "X_test, y_test = load_arrow_head(split=\"test\", return_X_y=True)\n",
>>>>>>> 67c56be8b1e838f2628df829946f795b7dba9aed
    "X_test_transform = rocket.transform(X_test)"
   ]
  },
  {
   "cell_type": "markdown",
   "metadata": {},
   "source": [
<<<<<<< HEAD
    "## 2.5 Classify the Test Data"
=======
    "### 2.5 Classify the Test Data"
>>>>>>> 67c56be8b1e838f2628df829946f795b7dba9aed
   ]
  },
  {
   "cell_type": "code",
<<<<<<< HEAD
   "execution_count": 6,
=======
   "execution_count": 7,
>>>>>>> 67c56be8b1e838f2628df829946f795b7dba9aed
   "metadata": {
    "scrolled": true
   },
   "outputs": [
    {
     "data": {
      "text/plain": [
<<<<<<< HEAD
       "1.0"
      ]
     },
     "execution_count": 6,
=======
       "0.8285714285714286"
      ]
     },
     "execution_count": 7,
>>>>>>> 67c56be8b1e838f2628df829946f795b7dba9aed
     "metadata": {},
     "output_type": "execute_result"
    }
   ],
   "source": [
<<<<<<< HEAD
    "classifier.score(X_test_transform, Y_test)"
   ]
  },
  {
   "cell_type": "markdown",
   "metadata": {},
   "source": [
    "***"
   ]
  },
  {
   "cell_type": "markdown",
   "metadata": {},
   "source": [
    "# 3 Multivariate Time Series"
=======
    "classifier.score(X_test_transform, y_test)"
>>>>>>> 67c56be8b1e838f2628df829946f795b7dba9aed
   ]
  },
  {
   "cell_type": "markdown",
   "metadata": {},
   "source": [
<<<<<<< HEAD
    "We can use ROCKET in exactly the same way for multivariate time series."
   ]
  },
  {
   "cell_type": "markdown",
   "metadata": {},
   "source": [
    "## 3.1 Load the Training Data"
=======
    "***\n",
    "\n",
    "## 3 Multivariate Time Series\n",
    "\n",
    "We can use ROCKET in exactly the same way for multivariate time series.\n",
    "\n",
    "### 3.1 Load the Training Data"
>>>>>>> 67c56be8b1e838f2628df829946f795b7dba9aed
   ]
  },
  {
   "cell_type": "code",
<<<<<<< HEAD
   "execution_count": 7,
   "metadata": {},
   "outputs": [],
   "source": [
    "X_training, Y_training = load_japanese_vowels(split = \"TRAIN\", return_X_y = True)"
=======
   "execution_count": 8,
   "metadata": {},
   "outputs": [],
   "source": [
    "X_train, y_train = load_japanese_vowels(split=\"train\", return_X_y=True)"
>>>>>>> 67c56be8b1e838f2628df829946f795b7dba9aed
   ]
  },
  {
   "cell_type": "markdown",
   "metadata": {},
   "source": [
<<<<<<< HEAD
    "## 3.2 Initialise ROCKET and Transform the Training Data"
=======
    "### 3.2 Initialise ROCKET and Transform the Training Data"
>>>>>>> 67c56be8b1e838f2628df829946f795b7dba9aed
   ]
  },
  {
   "cell_type": "code",
<<<<<<< HEAD
   "execution_count": 8,
=======
   "execution_count": 9,
>>>>>>> 67c56be8b1e838f2628df829946f795b7dba9aed
   "metadata": {},
   "outputs": [],
   "source": [
    "rocket = Rocket()\n",
<<<<<<< HEAD
    "\n",
    "rocket.fit(X_training)\n",
    "\n",
    "X_training_transform = rocket.transform(X_training)"
=======
    "rocket.fit(X_train)\n",
    "X_train_transform = rocket.transform(X_train)"
>>>>>>> 67c56be8b1e838f2628df829946f795b7dba9aed
   ]
  },
  {
   "cell_type": "markdown",
   "metadata": {},
   "source": [
<<<<<<< HEAD
    "## 3.3 Fit a Classifier"
=======
    "### 3.3 Fit a Classifier"
>>>>>>> 67c56be8b1e838f2628df829946f795b7dba9aed
   ]
  },
  {
   "cell_type": "code",
<<<<<<< HEAD
   "execution_count": 9,
=======
   "execution_count": 10,
>>>>>>> 67c56be8b1e838f2628df829946f795b7dba9aed
   "metadata": {},
   "outputs": [
    {
     "data": {
      "text/plain": [
       "RidgeClassifierCV(alphas=array([1.00000000e-03, 4.64158883e-03, 2.15443469e-02, 1.00000000e-01,\n",
       "       4.64158883e-01, 2.15443469e+00, 1.00000000e+01, 4.64158883e+01,\n",
       "       2.15443469e+02, 1.00000000e+03]),\n",
<<<<<<< HEAD
       "                  class_weight=None, cv=None, fit_intercept=True,\n",
       "                  normalize=True, scoring=None, store_cv_values=False)"
      ]
     },
     "execution_count": 9,
=======
       "                  normalize=True)"
      ]
     },
     "execution_count": 10,
>>>>>>> 67c56be8b1e838f2628df829946f795b7dba9aed
     "metadata": {},
     "output_type": "execute_result"
    }
   ],
   "source": [
    "classifier = RidgeClassifierCV(alphas = np.logspace(-3, 3, 10),\n",
    "                               normalize = True)\n",
<<<<<<< HEAD
    "\n",
    "classifier.fit(X_training_transform, Y_training)"
=======
    "classifier.fit(X_train_transform, y_train)"
>>>>>>> 67c56be8b1e838f2628df829946f795b7dba9aed
   ]
  },
  {
   "cell_type": "markdown",
   "metadata": {},
   "source": [
<<<<<<< HEAD
    "## 3.4 Load and Transform the Test Data"
=======
    "### 3.4 Load and Transform the Test Data"
>>>>>>> 67c56be8b1e838f2628df829946f795b7dba9aed
   ]
  },
  {
   "cell_type": "code",
<<<<<<< HEAD
   "execution_count": 10,
   "metadata": {},
   "outputs": [],
   "source": [
    "X_test, Y_test = load_japanese_vowels(split = \"TEST\", return_X_y = True)\n",
    "\n",
=======
   "execution_count": 11,
   "metadata": {},
   "outputs": [],
   "source": [
    "X_test, y_test = load_japanese_vowels(split=\"test\", return_X_y=True)\n",
>>>>>>> 67c56be8b1e838f2628df829946f795b7dba9aed
    "X_test_transform = rocket.transform(X_test)"
   ]
  },
  {
   "cell_type": "markdown",
   "metadata": {},
   "source": [
<<<<<<< HEAD
    "## 3.5 Classify the Test Data"
=======
    "### 3.5 Classify the Test Data"
>>>>>>> 67c56be8b1e838f2628df829946f795b7dba9aed
   ]
  },
  {
   "cell_type": "code",
<<<<<<< HEAD
   "execution_count": 11,
=======
   "execution_count": 12,
>>>>>>> 67c56be8b1e838f2628df829946f795b7dba9aed
   "metadata": {
    "scrolled": true
   },
   "outputs": [
    {
     "data": {
      "text/plain": [
       "1.0"
      ]
     },
<<<<<<< HEAD
     "execution_count": 11,
=======
     "execution_count": 12,
>>>>>>> 67c56be8b1e838f2628df829946f795b7dba9aed
     "metadata": {},
     "output_type": "execute_result"
    }
   ],
   "source": [
<<<<<<< HEAD
    "classifier.score(X_test_transform, Y_test)"
   ]
  },
  {
   "cell_type": "markdown",
   "metadata": {},
   "source": [
    "***"
   ]
  },
  {
   "cell_type": "markdown",
   "metadata": {},
   "source": [
    "# 4 Pipeline Example"
   ]
  },
  {
   "cell_type": "markdown",
   "metadata": {},
   "source": [
    "We can use ROCKET together with `RidgeClassifierCV` (or another classifier) in a pipeline.  We can then use the pipeline like a self-contained classifier, with a single call to `fit`, and without having to separately transform the data, etc."
=======
    "classifier.score(X_test_transform, y_test)"
>>>>>>> 67c56be8b1e838f2628df829946f795b7dba9aed
   ]
  },
  {
   "cell_type": "markdown",
   "metadata": {},
   "source": [
<<<<<<< HEAD
    "## 4.1 Initialise the Pipeline"
=======
    "***\n",
    "\n",
    "## 4 Pipeline Example\n",
    "\n",
    "We can use ROCKET together with `RidgeClassifierCV` (or another classifier) in a pipeline.  We can then use the pipeline like a self-contained classifier, with a single call to `fit`, and without having to separately transform the data, etc.\n",
    "\n",
    "### 4.1 Initialise the Pipeline"
>>>>>>> 67c56be8b1e838f2628df829946f795b7dba9aed
   ]
  },
  {
   "cell_type": "code",
<<<<<<< HEAD
   "execution_count": 12,
   "metadata": {},
   "outputs": [],
   "source": [
    "rocket_pipeline = make_pipeline(Rocket(),\n",
    "                                RidgeClassifierCV(alphas = np.logspace(-3, 3, 10), normalize = True))"
=======
   "execution_count": 13,
   "metadata": {},
   "outputs": [],
   "source": [
    "rocket_pipeline = make_pipeline(\n",
    "    Rocket(),\n",
    "    RidgeClassifierCV(alphas=np.logspace(-3, 3, 10), normalize=True)\n",
    ")"
>>>>>>> 67c56be8b1e838f2628df829946f795b7dba9aed
   ]
  },
  {
   "cell_type": "markdown",
   "metadata": {},
   "source": [
<<<<<<< HEAD
    "## 4.2 Load and Fit the Training Data"
=======
    "### 4.2 Load and Fit the Training Data"
>>>>>>> 67c56be8b1e838f2628df829946f795b7dba9aed
   ]
  },
  {
   "cell_type": "code",
<<<<<<< HEAD
   "execution_count": 13,
=======
   "execution_count": 14,
>>>>>>> 67c56be8b1e838f2628df829946f795b7dba9aed
   "metadata": {},
   "outputs": [
    {
     "data": {
      "text/plain": [
<<<<<<< HEAD
       "Pipeline(memory=None,\n",
       "         steps=[('rocket',\n",
       "                 Rocket(normalise=True, num_kernels=10000, random_state=None)),\n",
=======
       "Pipeline(steps=[('rocket', Rocket()),\n",
>>>>>>> 67c56be8b1e838f2628df829946f795b7dba9aed
       "                ('ridgeclassifiercv',\n",
       "                 RidgeClassifierCV(alphas=array([1.00000000e-03, 4.64158883e-03, 2.15443469e-02, 1.00000000e-01,\n",
       "       4.64158883e-01, 2.15443469e+00, 1.00000000e+01, 4.64158883e+01,\n",
       "       2.15443469e+02, 1.00000000e+03]),\n",
<<<<<<< HEAD
       "                                   class_weight=None, cv=None,\n",
       "                                   fit_intercept=True, normalize=True,\n",
       "                                   scoring=None, store_cv_values=False))],\n",
       "         verbose=False)"
      ]
     },
     "execution_count": 13,
=======
       "                                   normalize=True))])"
      ]
     },
     "execution_count": 14,
>>>>>>> 67c56be8b1e838f2628df829946f795b7dba9aed
     "metadata": {},
     "output_type": "execute_result"
    }
   ],
   "source": [
<<<<<<< HEAD
    "X_training, Y_training = load_gunpoint(split = \"TRAIN\", return_X_y = True)\n",
    "\n",
    "# it is necessary to pass Y_training to the pipeline\n",
    "# Y_training is not used for the transform, but it is used by the classifier\n",
    "rocket_pipeline.fit(X_training, Y_training)"
=======
    "X_train, y_train = load_arrow_head(split=\"train\", return_X_y=True)\n",
    "\n",
    "# it is necessary to pass y_train to the pipeline\n",
    "# y_train is not used for the transform, but it is used by the classifier\n",
    "rocket_pipeline.fit(X_train, y_train)"
>>>>>>> 67c56be8b1e838f2628df829946f795b7dba9aed
   ]
  },
  {
   "cell_type": "markdown",
   "metadata": {},
   "source": [
<<<<<<< HEAD
    "## 4.3 Load and Classify the Test Data"
=======
    "### 4.3 Load and Classify the Test Data"
>>>>>>> 67c56be8b1e838f2628df829946f795b7dba9aed
   ]
  },
  {
   "cell_type": "code",
<<<<<<< HEAD
   "execution_count": 14,
=======
   "execution_count": 15,
>>>>>>> 67c56be8b1e838f2628df829946f795b7dba9aed
   "metadata": {},
   "outputs": [
    {
     "data": {
      "text/plain": [
<<<<<<< HEAD
       "1.0"
      ]
     },
     "execution_count": 14,
=======
       "0.7885714285714286"
      ]
     },
     "execution_count": 15,
>>>>>>> 67c56be8b1e838f2628df829946f795b7dba9aed
     "metadata": {},
     "output_type": "execute_result"
    }
   ],
   "source": [
<<<<<<< HEAD
    "X_test, Y_test = load_gunpoint(split = \"TEST\", return_X_y = True)\n",
    "\n",
    "rocket_pipeline.score(X_test, Y_test)"
=======
    "X_test, y_test = load_arrow_head(split=\"test\", return_X_y=True)\n",
    "\n",
    "rocket_pipeline.score(X_test, y_test)"
>>>>>>> 67c56be8b1e838f2628df829946f795b7dba9aed
   ]
  }
 ],
 "metadata": {
  "kernelspec": {
   "display_name": "Python 3",
   "language": "python",
   "name": "python3"
  },
  "language_info": {
   "codemirror_mode": {
    "name": "ipython",
    "version": 3
   },
   "file_extension": ".py",
   "mimetype": "text/x-python",
   "name": "python",
   "nbconvert_exporter": "python",
   "pygments_lexer": "ipython3",
<<<<<<< HEAD
   "version": "3.7.5"
  }
 },
 "nbformat": 4,
 "nbformat_minor": 2
=======
   "version": "3.7.6"
  }
 },
 "nbformat": 4,
 "nbformat_minor": 4
>>>>>>> 67c56be8b1e838f2628df829946f795b7dba9aed
}
