{
 "cells": [
  {
   "cell_type": "markdown",
   "metadata": {},
   "source": [
    "# Univariate time series classification with Mr-SEQL\n",
    "\n",
    "In this notebook, we will demonstrate how to use Mr-SEQL for univariate time series classification."
   ]
  },
  {
   "cell_type": "code",
   "execution_count": 1,
   "metadata": {},
   "outputs": [],
   "source": [
    "from sktime.datasets import load_gunpoint\n",
    "from sktime.classifiers.shapelet_based import MrSEQLClassifier\n",
    "from sklearn import metrics"
   ]
  },
  {
   "cell_type": "markdown",
   "metadata": {},
   "source": [
    "## Load data"
   ]
  },
  {
   "cell_type": "code",
   "execution_count": 2,
   "metadata": {},
   "outputs": [],
   "source": [
    "X_train, y_train = load_gunpoint(split='TRAIN', return_X_y=True)\n",
    "X_test, y_test = load_gunpoint(split='TEST', return_X_y=True)"
   ]
  },
  {
   "cell_type": "markdown",
   "metadata": {},
   "source": [
    "## Train and Test"
   ]
  },
  {
   "cell_type": "code",
   "execution_count": 3,
   "metadata": {},
   "outputs": [
    {
     "name": "stdout",
     "output_type": "stream",
     "text": [
      "Accuracy with mr-seql: 0.980\n"
     ]
    }
   ],
   "source": [
    "# Create mrseql object\n",
    "ms = MrSEQLClassifier() # use sax by default\n",
    "# ms = MrSEQLClassifier(seql_mode='fs', symrep=['sfa']) # use sfa representations\n",
    "# ms = MrSEQLClassifier(seql_mode='fs', symrep=['sax', 'sfa']) # use sax and sfa representations\n",
    "\n",
    "# fit training data\n",
    "ms.fit(X_train,y_train)\n",
    "\n",
    "\n",
    "# prediction\n",
    "predicted = ms.predict(X_test)\n",
    "\n",
    "# Classification accuracy\n",
    "print(\"Accuracy with mr-seql: %2.3f\" % metrics.accuracy_score(y_test, predicted))\n"
   ]
  }
 ],
 "metadata": {
  "kernelspec": {
   "display_name": "Python 3",
   "language": "python",
   "name": "python3"
  },
  "language_info": {
   "codemirror_mode": {
    "name": "ipython",
    "version": 3
   },
   "file_extension": ".py",
   "mimetype": "text/x-python",
   "name": "python",
   "nbconvert_exporter": "python",
   "pygments_lexer": "ipython3",
   "version": "3.7.5"
  }
 },
 "nbformat": 4,
 "nbformat_minor": 2
}
