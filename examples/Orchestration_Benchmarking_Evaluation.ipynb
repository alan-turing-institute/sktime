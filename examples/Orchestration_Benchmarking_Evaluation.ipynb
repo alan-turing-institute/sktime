{
 "cells": [
  {
   "cell_type": "code",
   "execution_count": 1,
   "metadata": {},
   "outputs": [],
   "source": [
    "from sktime.experiments.orchestrator import Orchestrator\n",
    "from sktime.highlevel import TSCTask, TSCStrategy\n",
    "from sktime.classifiers.ensemble import TimeSeriesForestClassifier\n",
    "from sktime.experiments.data import DatasetHDD\n",
    "from sktime.model_selection import PresplitFilesCV\n",
    "from sktime.experiments.data import ResultHDD\n",
    "from sktime.experiments.data import DatasetLoadFromDir\n",
    "from sklearn.model_selection import KFold\n",
    "\n",
    "from sktime.experiments.analysis import AnalyseResults\n",
    "from sktime.experiments.scores import ScoreAccuracy"
   ]
  },
  {
   "cell_type": "code",
   "execution_count": 2,
   "metadata": {},
   "outputs": [],
   "source": [
    "#create the task and dataset objects manually\n",
    "dts_ArrowHead = DatasetHDD(dataset_loc='data/datasets/ArrowHead', dataset_name='ArrowHead')\n",
    "task_ArrowHead = TSCTask(target='target')\n",
    "\n",
    "dts_Beef = DatasetHDD(dataset_loc='data/datasets/Beef', dataset_name='Beef')\n",
    "task_Beef = TSCTask(target='target')\n",
    "\n",
    "#or create them automatically\n",
    "dts_loader = DatasetLoadFromDir(root_dir='data/datasets')\n",
    "datasets = dts_loader.load_datasets()\n",
    "tasks = [TSCTask(target='target')] * len(datasets)\n",
    "\n",
    "#create strategies\n",
    "clf = TimeSeriesForestClassifier()\n",
    "strategy = TSCStrategy(clf)\n",
    "\n",
    "#result backend\n",
    "resultHDD = ResultHDD(results_save_dir='data/results', strategies_save_dir='data/trained_strategies')\n",
    "\n",
    "\n",
    "orchestrator = Orchestrator(datasets=datasets,\n",
    "                            tasks=tasks,  \n",
    "                            strategies=[strategy], \n",
    "                            cv=PresplitFilesCV(), \n",
    "                            result=resultHDD)\n",
    "\n",
    "\n",
    "orchestrator.run()"
   ]
  },
  {
   "cell_type": "code",
   "execution_count": 3,
   "metadata": {},
   "outputs": [],
   "source": [
    "#The results list can be obtained from loading the saved csv files by:\n",
    "\n",
    "results = resultHDD.load()"
   ]
  },
  {
   "cell_type": "markdown",
   "metadata": {},
   "source": [
    "Having obtained the list of results objects we can run some statistical tests"
   ]
  },
  {
   "cell_type": "code",
   "execution_count": 4,
   "metadata": {},
   "outputs": [],
   "source": [
    "analyse = AnalyseResults(resultHDD)"
   ]
  },
  {
   "cell_type": "code",
   "execution_count": 5,
   "metadata": {},
   "outputs": [],
   "source": [
    "strategy_dict, losses_df = analyse.prediction_errors(metric= ScoreAccuracy())"
   ]
  },
  {
   "cell_type": "markdown",
   "metadata": {},
   "source": [
    "The strategy_dict is used as an argument to the function performing the statistical tests and visualizations. Currently, the following functions are implemented:"
   ]
  },
  {
   "cell_type": "code",
   "execution_count": null,
   "metadata": {
    "scrolled": false
   },
   "outputs": [],
   "source": [
    "analyse.average_and_std_error(strategy_dict)\n",
    "analyse.plot_boxcharts(strategy_dict)\n",
    "analyse.ranks(strategy_dict)\n",
    "analyse.t_test(strategy_dict)\n",
    "analyse.sign_test(strategy_dict)\n",
    "analyse.ranksum_test(strategy_dict)\n",
    "analyse.t_test_with_bonferroni_correction(strategy_dict)\n",
    "analyse.wilcoxon_test(strategy_dict)\n",
    "analyse.friedman_test(strategy_dict)\n",
    "analyse.nemenyi(strategy_dict)"
   ]
  }
 ],
 "metadata": {
  "kernelspec": {
   "display_name": "Python 3",
   "language": "python",
   "name": "python3"
  },
  "language_info": {
   "codemirror_mode": {
    "name": "ipython",
    "version": 3
   },
   "file_extension": ".py",
   "mimetype": "text/x-python",
   "name": "python",
   "nbconvert_exporter": "python",
   "pygments_lexer": "ipython3",
   "version": "3.6.7"
  }
 },
 "nbformat": 4,
 "nbformat_minor": 2
}
