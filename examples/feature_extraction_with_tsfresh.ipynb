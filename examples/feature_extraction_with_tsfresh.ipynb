{
 "cells": [
  {
   "cell_type": "markdown",
   "metadata": {},
   "source": [
    "# Feature extraction with tsfresh transformer\n",
    "\n",
    "In this tutorial, we show how you can use sktime with [tsfresh](https://tsfresh.readthedocs.io) to first extract features from time series, so that we can then use any scikit-learn estimator.\n",
    "\n",
    "## Preliminaries\n",
    "You have to install tsfresh if you haven't already. To install it, uncomment the cell below:"
   ]
  },
  {
   "cell_type": "code",
   "execution_count": 1,
   "metadata": {},
   "outputs": [],
   "source": [
    "# !pip install --upgrade tsfresh"
   ]
  },
  {
   "cell_type": "code",
   "execution_count": 2,
   "metadata": {},
   "outputs": [],
   "source": [
    "import numpy as np\n",
    "from sklearn.model_selection import train_test_split\n",
    "from sklearn.ensemble import RandomForestClassifier\n",
    "from sklearn.pipeline import make_pipeline\n",
    "from sktime.datasets import load_basic_motions\n",
    "from sktime.datasets import load_arrow_head\n",
    "from sktime.transformers.series_as_features.summarize import \\\n",
    "    TSFreshFeatureExtractor"
   ]
  },
  {
   "cell_type": "markdown",
   "metadata": {},
   "source": [
    "## Univariate time series classification data\n",
    "\n",
    "For more details on the data set, see the [univariate time series classification notebook](https://github.com/alan-turing-institute/sktime/blob/master/examples/02_classification_univariate.ipynb)."
   ]
  },
  {
   "cell_type": "code",
   "execution_count": 3,
   "metadata": {
    "tags": []
   },
   "outputs": [
    {
     "output_type": "stream",
     "name": "stdout",
     "text": "(158, 1) (158,) (53, 1) (53,)\n"
    }
   ],
   "source": [
    "X, y = load_arrow_head(return_X_y=True)\n",
    "X_train, X_test, y_train, y_test = train_test_split(X, y)\n",
    "print(X_train.shape, y_train.shape, X_test.shape, y_test.shape)"
   ]
  },
  {
   "cell_type": "code",
   "execution_count": 4,
   "metadata": {
    "jupyter": {
     "outputs_hidden": false
    },
    "pycharm": {
     "name": "#%%\n"
    }
   },
   "outputs": [
    {
     "output_type": "execute_result",
     "data": {
      "text/plain": "                                                 dim_0\n32   0     -1.8955\n1     -1.8963\n2     -1.8802\n3   ...\n69   0     -1.7998\n1     -1.7987\n2     -1.7942\n3   ...\n14   0     -1.9134\n1     -1.9116\n2     -1.8902\n3   ...\n76   0     -1.8888\n1     -1.8850\n2     -1.8562\n3   ...\n127  0     -1.8034\n1     -1.7962\n2     -1.7728\n3   ...",
      "text/html": "<div>\n<style scoped>\n    .dataframe tbody tr th:only-of-type {\n        vertical-align: middle;\n    }\n\n    .dataframe tbody tr th {\n        vertical-align: top;\n    }\n\n    .dataframe thead th {\n        text-align: right;\n    }\n</style>\n<table border=\"1\" class=\"dataframe\">\n  <thead>\n    <tr style=\"text-align: right;\">\n      <th></th>\n      <th>dim_0</th>\n    </tr>\n  </thead>\n  <tbody>\n    <tr>\n      <th>32</th>\n      <td>0     -1.8955\n1     -1.8963\n2     -1.8802\n3   ...</td>\n    </tr>\n    <tr>\n      <th>69</th>\n      <td>0     -1.7998\n1     -1.7987\n2     -1.7942\n3   ...</td>\n    </tr>\n    <tr>\n      <th>14</th>\n      <td>0     -1.9134\n1     -1.9116\n2     -1.8902\n3   ...</td>\n    </tr>\n    <tr>\n      <th>76</th>\n      <td>0     -1.8888\n1     -1.8850\n2     -1.8562\n3   ...</td>\n    </tr>\n    <tr>\n      <th>127</th>\n      <td>0     -1.8034\n1     -1.7962\n2     -1.7728\n3   ...</td>\n    </tr>\n  </tbody>\n</table>\n</div>"
     },
     "metadata": {},
     "execution_count": 4
    }
   ],
   "source": [
    "X_train.head()"
   ]
  },
  {
   "cell_type": "code",
   "execution_count": 5,
   "metadata": {},
   "outputs": [
    {
     "output_type": "execute_result",
     "data": {
      "text/plain": "array([&#39;0&#39;, &#39;1&#39;, &#39;2&#39;], dtype=object)"
     },
     "metadata": {},
     "execution_count": 5
    }
   ],
   "source": [
    "# binary classification task\n",
    "np.unique(y_train)"
   ]
  },
  {
   "cell_type": "markdown",
   "metadata": {},
   "source": [
    "## Using tsfresh to extract features"
   ]
  },
  {
   "cell_type": "code",
   "execution_count": 6,
   "metadata": {
    "tags": []
   },
   "outputs": [
    {
     "output_type": "stream",
     "name": "stderr",
     "text": "Feature Extraction: 100%|██████████| 5/5 [00:11&lt;00:00,  2.26s/it]\n"
    },
    {
     "output_type": "execute_result",
     "data": {
      "text/plain": "   dim_0__variance_larger_than_standard_deviation  dim_0__has_duplicate_max  \\\n0                                             0.0                       0.0   \n1                                             0.0                       0.0   \n2                                             0.0                       1.0   \n3                                             0.0                       1.0   \n4                                             0.0                       1.0   \n\n   dim_0__has_duplicate_min  dim_0__has_duplicate  dim_0__sum_values  \\\n0                       0.0                   1.0          -0.000082   \n1                       0.0                   1.0          -0.000080   \n2                       0.0                   1.0           0.000866   \n3                       0.0                   1.0           0.000089   \n4                       0.0                   1.0           0.000654   \n\n   dim_0__abs_energy  dim_0__mean_abs_change  dim_0__mean_change  \\\n0         249.998916                0.353078            0.004516   \n1         249.998516                0.334229            0.004226   \n2         250.000664                0.337399            0.005047   \n3         249.999746                0.334852            0.005419   \n4         250.000867                0.312775            0.007564   \n\n   dim_0__mean_second_derivative_central  dim_0__median  ...  \\\n0                              -0.000048      -0.010786  ...   \n1                              -0.000200      -0.024066  ...   \n2                              -0.000102       0.044839  ...   \n3                              -0.000184      -0.043601  ...   \n4                              -0.000128       0.218950  ...   \n\n   dim_0__fourier_entropy__bins_2  dim_0__fourier_entropy__bins_3  \\\n0                        0.081510                        0.081510   \n1                        0.081510                        0.081510   \n2                        0.081510                        0.081510   \n3                        0.081510                        0.081510   \n4                        0.046288                        0.092513   \n\n   dim_0__fourier_entropy__bins_5  dim_0__fourier_entropy__bins_10  \\\n0                        0.081510                         0.173767   \n1                        0.127671                         0.138673   \n2                        0.127671                         0.208796   \n3                        0.092513                         0.173767   \n4                        0.092513                         0.204643   \n\n   dim_0__fourier_entropy__bins_100  \\\n0                          1.329162   \n1                          1.175797   \n2                          1.306718   \n3                          1.100223   \n4                          0.955431   \n\n   dim_0__permutation_entropy__dimension_3__tau_1  \\\n0                                        1.551664   \n1                                        1.574929   \n2                                        1.502383   \n3                                        1.511217   \n4                                        1.472832   \n\n   dim_0__permutation_entropy__dimension_4__tau_1  \\\n0                                        2.362918   \n1                                        2.472788   \n2                                        2.317553   \n3                                        2.341969   \n4                                        2.326372   \n\n   dim_0__permutation_entropy__dimension_5__tau_1  \\\n0                                        3.090174   \n1                                        3.211234   \n2                                        3.061353   \n3                                        3.056166   \n4                                        3.071825   \n\n   dim_0__permutation_entropy__dimension_6__tau_1  \\\n0                                        3.636004   \n1                                        3.750249   \n2                                        3.656811   \n3                                        3.629556   \n4                                        3.669050   \n\n   dim_0__permutation_entropy__dimension_7__tau_1  \n0                                        4.061991  \n1                                        4.129999  \n2                                        4.101524  \n3                                        4.061251  \n4                                        4.116237  \n\n[5 rows x 773 columns]",
      "text/html": "<div>\n<style scoped>\n    .dataframe tbody tr th:only-of-type {\n        vertical-align: middle;\n    }\n\n    .dataframe tbody tr th {\n        vertical-align: top;\n    }\n\n    .dataframe thead th {\n        text-align: right;\n    }\n</style>\n<table border=\"1\" class=\"dataframe\">\n  <thead>\n    <tr style=\"text-align: right;\">\n      <th></th>\n      <th>dim_0__variance_larger_than_standard_deviation</th>\n      <th>dim_0__has_duplicate_max</th>\n      <th>dim_0__has_duplicate_min</th>\n      <th>dim_0__has_duplicate</th>\n      <th>dim_0__sum_values</th>\n      <th>dim_0__abs_energy</th>\n      <th>dim_0__mean_abs_change</th>\n      <th>dim_0__mean_change</th>\n      <th>dim_0__mean_second_derivative_central</th>\n      <th>dim_0__median</th>\n      <th>...</th>\n      <th>dim_0__fourier_entropy__bins_2</th>\n      <th>dim_0__fourier_entropy__bins_3</th>\n      <th>dim_0__fourier_entropy__bins_5</th>\n      <th>dim_0__fourier_entropy__bins_10</th>\n      <th>dim_0__fourier_entropy__bins_100</th>\n      <th>dim_0__permutation_entropy__dimension_3__tau_1</th>\n      <th>dim_0__permutation_entropy__dimension_4__tau_1</th>\n      <th>dim_0__permutation_entropy__dimension_5__tau_1</th>\n      <th>dim_0__permutation_entropy__dimension_6__tau_1</th>\n      <th>dim_0__permutation_entropy__dimension_7__tau_1</th>\n    </tr>\n  </thead>\n  <tbody>\n    <tr>\n      <th>0</th>\n      <td>0.0</td>\n      <td>0.0</td>\n      <td>0.0</td>\n      <td>1.0</td>\n      <td>-0.000082</td>\n      <td>249.998916</td>\n      <td>0.353078</td>\n      <td>0.004516</td>\n      <td>-0.000048</td>\n      <td>-0.010786</td>\n      <td>...</td>\n      <td>0.081510</td>\n      <td>0.081510</td>\n      <td>0.081510</td>\n      <td>0.173767</td>\n      <td>1.329162</td>\n      <td>1.551664</td>\n      <td>2.362918</td>\n      <td>3.090174</td>\n      <td>3.636004</td>\n      <td>4.061991</td>\n    </tr>\n    <tr>\n      <th>1</th>\n      <td>0.0</td>\n      <td>0.0</td>\n      <td>0.0</td>\n      <td>1.0</td>\n      <td>-0.000080</td>\n      <td>249.998516</td>\n      <td>0.334229</td>\n      <td>0.004226</td>\n      <td>-0.000200</td>\n      <td>-0.024066</td>\n      <td>...</td>\n      <td>0.081510</td>\n      <td>0.081510</td>\n      <td>0.127671</td>\n      <td>0.138673</td>\n      <td>1.175797</td>\n      <td>1.574929</td>\n      <td>2.472788</td>\n      <td>3.211234</td>\n      <td>3.750249</td>\n      <td>4.129999</td>\n    </tr>\n    <tr>\n      <th>2</th>\n      <td>0.0</td>\n      <td>1.0</td>\n      <td>0.0</td>\n      <td>1.0</td>\n      <td>0.000866</td>\n      <td>250.000664</td>\n      <td>0.337399</td>\n      <td>0.005047</td>\n      <td>-0.000102</td>\n      <td>0.044839</td>\n      <td>...</td>\n      <td>0.081510</td>\n      <td>0.081510</td>\n      <td>0.127671</td>\n      <td>0.208796</td>\n      <td>1.306718</td>\n      <td>1.502383</td>\n      <td>2.317553</td>\n      <td>3.061353</td>\n      <td>3.656811</td>\n      <td>4.101524</td>\n    </tr>\n    <tr>\n      <th>3</th>\n      <td>0.0</td>\n      <td>1.0</td>\n      <td>0.0</td>\n      <td>1.0</td>\n      <td>0.000089</td>\n      <td>249.999746</td>\n      <td>0.334852</td>\n      <td>0.005419</td>\n      <td>-0.000184</td>\n      <td>-0.043601</td>\n      <td>...</td>\n      <td>0.081510</td>\n      <td>0.081510</td>\n      <td>0.092513</td>\n      <td>0.173767</td>\n      <td>1.100223</td>\n      <td>1.511217</td>\n      <td>2.341969</td>\n      <td>3.056166</td>\n      <td>3.629556</td>\n      <td>4.061251</td>\n    </tr>\n    <tr>\n      <th>4</th>\n      <td>0.0</td>\n      <td>1.0</td>\n      <td>0.0</td>\n      <td>1.0</td>\n      <td>0.000654</td>\n      <td>250.000867</td>\n      <td>0.312775</td>\n      <td>0.007564</td>\n      <td>-0.000128</td>\n      <td>0.218950</td>\n      <td>...</td>\n      <td>0.046288</td>\n      <td>0.092513</td>\n      <td>0.092513</td>\n      <td>0.204643</td>\n      <td>0.955431</td>\n      <td>1.472832</td>\n      <td>2.326372</td>\n      <td>3.071825</td>\n      <td>3.669050</td>\n      <td>4.116237</td>\n    </tr>\n  </tbody>\n</table>\n<p>5 rows × 773 columns</p>\n</div>"
     },
     "metadata": {},
     "execution_count": 6
    }
   ],
   "source": [
    "# tf = TsFreshTransformer()\n",
    "t = TSFreshFeatureExtractor(default_fc_parameters=\"efficient\", show_warnings=False)\n",
    "Xt = t.fit_transform(X_train)\n",
    "Xt.head()"
   ]
  },
  {
   "cell_type": "markdown",
   "metadata": {},
   "source": [
    "## Using tsfresh with sktime"
   ]
  },
  {
   "cell_type": "code",
   "execution_count": 7,
   "metadata": {
    "tags": []
   },
   "outputs": [
    {
     "output_type": "stream",
     "name": "stderr",
     "text": "Feature Extraction: 100%|██████████| 5/5 [00:11&lt;00:00,  2.20s/it]\nFeature Extraction: 100%|██████████| 5/5 [00:03&lt;00:00,  1.34it/s]\n"
    },
    {
     "output_type": "execute_result",
     "data": {
      "text/plain": "0.8867924528301887"
     },
     "metadata": {},
     "execution_count": 7
    }
   ],
   "source": [
    "classifier = make_pipeline(\n",
    "    TSFreshFeatureExtractor(default_fc_parameters=\"efficient\", show_warnings=False),\n",
    "    RandomForestClassifier()\n",
    ")\n",
    "classifier.fit(X_train, y_train)\n",
    "classifier.score(X_test, y_test)"
   ]
  },
  {
   "cell_type": "markdown",
   "metadata": {},
   "source": [
    "## Multivariate time series classification data"
   ]
  },
  {
   "cell_type": "code",
   "execution_count": 8,
   "metadata": {
    "scrolled": true,
    "tags": []
   },
   "outputs": [
    {
     "output_type": "stream",
     "name": "stdout",
     "text": "(60, 6) (60,) (20, 6) (20,)\n"
    }
   ],
   "source": [
    "X, y = load_basic_motions(return_X_y=True)\n",
    "X_train, X_test, y_train, y_test = train_test_split(X, y)\n",
    "print(X_train.shape, y_train.shape, X_test.shape, y_test.shape)"
   ]
  },
  {
   "cell_type": "code",
   "execution_count": 9,
   "metadata": {
    "jupyter": {
     "outputs_hidden": false
    },
    "pycharm": {
     "name": "#%%\n"
    }
   },
   "outputs": [
    {
     "output_type": "execute_result",
     "data": {
      "text/plain": "                                                dim_0  \\\n1   0     0.377751\n1     0.377751\n2     2.952965\n3...   \n38  0    -2.178746\n1    -2.178746\n2    -0.448056\n3...   \n30  0    -0.623875\n1    -0.623875\n2    -1.081529\n3...   \n32  0    -0.179131\n1    -0.179131\n2     0.461767\n3...   \n36  0    -1.801504\n1    -1.801504\n2    -0.480725\n3...   \n\n                                                dim_1  \\\n1   0    -0.610850\n1    -0.610850\n2     0.970717\n3...   \n38  0     -0.385371\n1     -0.385371\n2     -2.08943...   \n30  0    -2.123436\n1    -2.123436\n2    -0.121519\n3...   \n32  0    -1.108077\n1    -1.108077\n2    -1.187180\n3...   \n36  0     2.344990\n1     2.344990\n2    -0.994385\n3...   \n\n                                                dim_2  \\\n1   0    -0.147376\n1    -0.147376\n2    -5.962515\n3...   \n38  0     -0.805837\n1     -0.805837\n2      1.04617...   \n30  0    -0.513654\n1    -0.513654\n2     0.809464\n3...   \n32  0     0.012600\n1     0.012600\n2     2.360390\n3...   \n36  0     0.281253\n1     0.281253\n2     0.378807\n3...   \n\n                                                dim_3  \\\n1   0    -0.103872\n1    -0.103872\n2    -7.593275\n3...   \n38  0    -0.039951\n1    -0.039951\n2     1.946925\n3...   \n30  0    -0.143822\n1    -0.143822\n2    -1.081329\n3...   \n32  0     0.066584\n1     0.066584\n2    -0.463427\n3...   \n36  0     0.716447\n1     0.716447\n2    -0.870923\n3...   \n\n                                                dim_4  \\\n1   0    -0.109198\n1    -0.109198\n2    -0.697804\n3...   \n38  0     0.484734\n1     0.484734\n2    -0.524684\n3...   \n30  0     0.058594\n1     0.058594\n2    -0.127842\n3...   \n32  0    -0.095881\n1    -0.095881\n2     0.639209\n3...   \n36  0     0.162466\n1     0.162466\n2     0.095881\n3...   \n\n                                                dim_5  \n1   0    -0.037287\n1    -0.037287\n2    -2.865789\n3...  \n38  0     1.054696\n1     1.054696\n2     2.436986\n3...  \n30  0     1.086656\n1     1.086656\n2     0.066584\n3...  \n32  0     0.396843\n1     0.396843\n2    -0.383526\n3...  \n36  0     0.921527\n1     0.921527\n2    -0.474080\n3...  ",
      "text/html": "<div>\n<style scoped>\n    .dataframe tbody tr th:only-of-type {\n        vertical-align: middle;\n    }\n\n    .dataframe tbody tr th {\n        vertical-align: top;\n    }\n\n    .dataframe thead th {\n        text-align: right;\n    }\n</style>\n<table border=\"1\" class=\"dataframe\">\n  <thead>\n    <tr style=\"text-align: right;\">\n      <th></th>\n      <th>dim_0</th>\n      <th>dim_1</th>\n      <th>dim_2</th>\n      <th>dim_3</th>\n      <th>dim_4</th>\n      <th>dim_5</th>\n    </tr>\n  </thead>\n  <tbody>\n    <tr>\n      <th>1</th>\n      <td>0     0.377751\n1     0.377751\n2     2.952965\n3...</td>\n      <td>0    -0.610850\n1    -0.610850\n2     0.970717\n3...</td>\n      <td>0    -0.147376\n1    -0.147376\n2    -5.962515\n3...</td>\n      <td>0    -0.103872\n1    -0.103872\n2    -7.593275\n3...</td>\n      <td>0    -0.109198\n1    -0.109198\n2    -0.697804\n3...</td>\n      <td>0    -0.037287\n1    -0.037287\n2    -2.865789\n3...</td>\n    </tr>\n    <tr>\n      <th>38</th>\n      <td>0    -2.178746\n1    -2.178746\n2    -0.448056\n3...</td>\n      <td>0     -0.385371\n1     -0.385371\n2     -2.08943...</td>\n      <td>0     -0.805837\n1     -0.805837\n2      1.04617...</td>\n      <td>0    -0.039951\n1    -0.039951\n2     1.946925\n3...</td>\n      <td>0     0.484734\n1     0.484734\n2    -0.524684\n3...</td>\n      <td>0     1.054696\n1     1.054696\n2     2.436986\n3...</td>\n    </tr>\n    <tr>\n      <th>30</th>\n      <td>0    -0.623875\n1    -0.623875\n2    -1.081529\n3...</td>\n      <td>0    -2.123436\n1    -2.123436\n2    -0.121519\n3...</td>\n      <td>0    -0.513654\n1    -0.513654\n2     0.809464\n3...</td>\n      <td>0    -0.143822\n1    -0.143822\n2    -1.081329\n3...</td>\n      <td>0     0.058594\n1     0.058594\n2    -0.127842\n3...</td>\n      <td>0     1.086656\n1     1.086656\n2     0.066584\n3...</td>\n    </tr>\n    <tr>\n      <th>32</th>\n      <td>0    -0.179131\n1    -0.179131\n2     0.461767\n3...</td>\n      <td>0    -1.108077\n1    -1.108077\n2    -1.187180\n3...</td>\n      <td>0     0.012600\n1     0.012600\n2     2.360390\n3...</td>\n      <td>0     0.066584\n1     0.066584\n2    -0.463427\n3...</td>\n      <td>0    -0.095881\n1    -0.095881\n2     0.639209\n3...</td>\n      <td>0     0.396843\n1     0.396843\n2    -0.383526\n3...</td>\n    </tr>\n    <tr>\n      <th>36</th>\n      <td>0    -1.801504\n1    -1.801504\n2    -0.480725\n3...</td>\n      <td>0     2.344990\n1     2.344990\n2    -0.994385\n3...</td>\n      <td>0     0.281253\n1     0.281253\n2     0.378807\n3...</td>\n      <td>0     0.716447\n1     0.716447\n2    -0.870923\n3...</td>\n      <td>0     0.162466\n1     0.162466\n2     0.095881\n3...</td>\n      <td>0     0.921527\n1     0.921527\n2    -0.474080\n3...</td>\n    </tr>\n  </tbody>\n</table>\n</div>"
     },
     "metadata": {},
     "execution_count": 9
    }
   ],
   "source": [
    "# multivariate input data\n",
    "X_train.head()"
   ]
  },
  {
   "cell_type": "code",
   "execution_count": null,
   "metadata": {
    "scrolled": true,
    "tags": []
   },
   "outputs": [],
   "source": [
    "t = TSFreshFeatureExtractor(default_fc_parameters=\"efficient\", show_warnings=False)\n",
    "Xt = t.fit_transform(X_train)\n",
    "Xt.head()"
   ]
  }
 ],
 "metadata": {
  "kernelspec": {
   "display_name": "Python 3",
   "language": "python",
   "name": "python3"
  },
  "language_info": {
   "codemirror_mode": {
    "name": "ipython",
    "version": 3
   },
   "file_extension": ".py",
   "mimetype": "text/x-python",
   "name": "python",
   "nbconvert_exporter": "python",
   "pygments_lexer": "ipython3",
   "version": "3.8.2-final"
  }
 },
 "nbformat": 4,
 "nbformat_minor": 4
}
