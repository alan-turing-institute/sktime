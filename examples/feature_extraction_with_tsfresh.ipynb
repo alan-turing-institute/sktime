{
 "cells": [
  {
   "cell_type": "markdown",
   "metadata": {},
   "source": [
    "# Feature extraction with tsfresh transformer\n",
    "\n",
    "In this tutorial, we show how you can use sktime with [tsfresh](https://tsfresh.readthedocs.io) to first extract features from time series, so that we can then use any scikit-learn estimator.\n",
    "\n",
    "## Preliminaries\n",
    "You have to install tsfresh if you haven't already. To install it, uncomment the cell below:"
   ]
  },
  {
   "cell_type": "code",
   "execution_count": 1,
   "metadata": {},
   "outputs": [],
   "source": [
    "# !pip install --upgrade tsfresh"
   ]
  },
  {
   "cell_type": "code",
   "execution_count": 2,
   "metadata": {},
   "outputs": [],
   "source": [
    "import numpy as np\n",
    "from sklearn.model_selection import train_test_split\n",
    "from sklearn.ensemble import RandomForestClassifier\n",
    "from sklearn.pipeline import make_pipeline\n",
    "from sktime.datasets import load_basic_motions\n",
    "from sktime.datasets import load_arrow_head\n",
    "from sktime.transformers.series_as_features.summarize import \\\n",
    "    TSFreshFeatureExtractor"
   ]
  },
  {
   "cell_type": "markdown",
   "metadata": {},
   "source": [
    "## Univariate time series classification data\n",
    "\n",
    "For more details on the data set, see the [univariate time series classification notebook](https://github.com/alan-turing-institute/sktime/blob/master/examples/02_classification_univariate.ipynb)."
   ]
  },
  {
   "cell_type": "code",
   "execution_count": 3,
   "metadata": {
    "tags": []
   },
   "outputs": [
    {
     "output_type": "stream",
     "name": "stdout",
     "text": "(158, 1) (158,) (53, 1) (53,)\n"
    }
   ],
   "source": [
    "X, y = load_arrow_head(return_X_y=True)\n",
    "X_train, X_test, y_train, y_test = train_test_split(X, y)\n",
    "print(X_train.shape, y_train.shape, X_test.shape, y_test.shape)"
   ]
  },
  {
   "cell_type": "code",
   "execution_count": 4,
   "metadata": {
    "jupyter": {
     "outputs_hidden": false
    },
    "pycharm": {
     "name": "#%%\n"
    }
   },
   "outputs": [
    {
     "output_type": "execute_result",
     "data": {
      "text/plain": "                                                 dim_0\n104  0     -1.9698\n1     -1.9818\n2     -1.9434\n3   ...\n0    0     -1.9078\n1     -1.9049\n2     -1.8886\n3   ...\n73   0     -1.8132\n1     -1.8255\n2     -1.8166\n3   ...\n13   0     -2.1395\n1     -2.1189\n2     -2.1044\n3   ...\n27   0     -2.5471\n1     -2.5494\n2     -2.4694\n3   ...",
      "text/html": "<div>\n<style scoped>\n    .dataframe tbody tr th:only-of-type {\n        vertical-align: middle;\n    }\n\n    .dataframe tbody tr th {\n        vertical-align: top;\n    }\n\n    .dataframe thead th {\n        text-align: right;\n    }\n</style>\n<table border=\"1\" class=\"dataframe\">\n  <thead>\n    <tr style=\"text-align: right;\">\n      <th></th>\n      <th>dim_0</th>\n    </tr>\n  </thead>\n  <tbody>\n    <tr>\n      <th>104</th>\n      <td>0     -1.9698\n1     -1.9818\n2     -1.9434\n3   ...</td>\n    </tr>\n    <tr>\n      <th>0</th>\n      <td>0     -1.9078\n1     -1.9049\n2     -1.8886\n3   ...</td>\n    </tr>\n    <tr>\n      <th>73</th>\n      <td>0     -1.8132\n1     -1.8255\n2     -1.8166\n3   ...</td>\n    </tr>\n    <tr>\n      <th>13</th>\n      <td>0     -2.1395\n1     -2.1189\n2     -2.1044\n3   ...</td>\n    </tr>\n    <tr>\n      <th>27</th>\n      <td>0     -2.5471\n1     -2.5494\n2     -2.4694\n3   ...</td>\n    </tr>\n  </tbody>\n</table>\n</div>"
     },
     "metadata": {},
     "execution_count": 4
    }
   ],
   "source": [
    "X_train.head()"
   ]
  },
  {
   "cell_type": "code",
   "execution_count": 5,
   "metadata": {},
   "outputs": [
    {
     "output_type": "execute_result",
     "data": {
      "text/plain": "array([&#39;0&#39;, &#39;1&#39;, &#39;2&#39;], dtype=object)"
     },
     "metadata": {},
     "execution_count": 5
    }
   ],
   "source": [
    "# binary classification task\n",
    "np.unique(y_train)"
   ]
  },
  {
   "cell_type": "markdown",
   "metadata": {},
   "source": [
    "## Using tsfresh to extract features"
   ]
  },
  {
   "cell_type": "code",
   "execution_count": 6,
   "metadata": {
    "tags": []
   },
   "outputs": [
    {
     "output_type": "stream",
     "name": "stderr",
     "text": "Feature Extraction: 100%|██████████| 5/5 [00:20&lt;00:00,  4.06s/it]\n"
    },
    {
     "output_type": "execute_result",
     "data": {
      "text/plain": "   dim_0__variance_larger_than_standard_deviation  dim_0__has_duplicate_max  \\\n0                                             0.0                       0.0   \n1                                             0.0                       0.0   \n2                                             0.0                       0.0   \n3                                             0.0                       1.0   \n4                                             0.0                       0.0   \n\n   dim_0__has_duplicate_min  dim_0__has_duplicate  dim_0__sum_values  \\\n0                       0.0                   1.0           0.000079   \n1                       0.0                   1.0          -0.000602   \n2                       0.0                   1.0           0.000015   \n3                       0.0                   1.0          -0.000008   \n4                       0.0                   1.0          -0.000113   \n\n   dim_0__abs_energy  dim_0__mean_abs_change  dim_0__mean_change  \\\n0         250.002030                0.337407            0.007011   \n1         249.998915                0.341486            0.004775   \n2         249.999269                0.352382            0.005700   \n3         249.999228                0.331796            0.004104   \n4         250.000974                0.343240            0.004114   \n\n   dim_0__mean_second_derivative_central  dim_0__median  ...  \\\n0                              -0.000196       0.042356  ...   \n1                              -0.000053      -0.108700  ...   \n2                              -0.000013      -0.020305  ...   \n3                              -0.000043       0.153360  ...   \n4                              -0.000180       0.449820  ...   \n\n   dim_0__fourier_entropy__bins_2  dim_0__fourier_entropy__bins_3  \\\n0                        0.081510                        0.092513   \n1                        0.081510                        0.081510   \n2                        0.081510                        0.092513   \n3                        0.081510                        0.127671   \n4                        0.112516                        0.158612   \n\n   dim_0__fourier_entropy__bins_5  dim_0__fourier_entropy__bins_10  \\\n0                        0.092513                         0.204643   \n1                        0.127671                         0.208796   \n2                        0.092513                         0.204643   \n3                        0.173767                         0.265764   \n4                        0.239606                         0.366101   \n\n   dim_0__fourier_entropy__bins_100  \\\n0                          1.197663   \n1                          1.262220   \n2                          1.224637   \n3                          1.250099   \n4                          2.033926   \n\n   dim_0__permutation_entropy__dimension_3__tau_1  \\\n0                                        1.509541   \n1                                        1.471214   \n2                                        1.488539   \n3                                        1.554067   \n4                                        1.582302   \n\n   dim_0__permutation_entropy__dimension_4__tau_1  \\\n0                                        2.380924   \n1                                        2.266157   \n2                                        2.241789   \n3                                        2.472764   \n4                                        2.572386   \n\n   dim_0__permutation_entropy__dimension_5__tau_1  \\\n0                                        3.141125   \n1                                        2.958169   \n2                                        2.913085   \n3                                        3.264834   \n4                                        3.494790   \n\n   dim_0__permutation_entropy__dimension_6__tau_1  \\\n0                                        3.695552   \n1                                        3.492229   \n2                                        3.391484   \n3                                        3.891710   \n4                                        4.177374   \n\n   dim_0__permutation_entropy__dimension_7__tau_1  \n0                                        4.128537  \n1                                        3.922921  \n2                                        3.778937  \n3                                        4.357888  \n4                                        4.620139  \n\n[5 rows x 773 columns]",
      "text/html": "<div>\n<style scoped>\n    .dataframe tbody tr th:only-of-type {\n        vertical-align: middle;\n    }\n\n    .dataframe tbody tr th {\n        vertical-align: top;\n    }\n\n    .dataframe thead th {\n        text-align: right;\n    }\n</style>\n<table border=\"1\" class=\"dataframe\">\n  <thead>\n    <tr style=\"text-align: right;\">\n      <th></th>\n      <th>dim_0__variance_larger_than_standard_deviation</th>\n      <th>dim_0__has_duplicate_max</th>\n      <th>dim_0__has_duplicate_min</th>\n      <th>dim_0__has_duplicate</th>\n      <th>dim_0__sum_values</th>\n      <th>dim_0__abs_energy</th>\n      <th>dim_0__mean_abs_change</th>\n      <th>dim_0__mean_change</th>\n      <th>dim_0__mean_second_derivative_central</th>\n      <th>dim_0__median</th>\n      <th>...</th>\n      <th>dim_0__fourier_entropy__bins_2</th>\n      <th>dim_0__fourier_entropy__bins_3</th>\n      <th>dim_0__fourier_entropy__bins_5</th>\n      <th>dim_0__fourier_entropy__bins_10</th>\n      <th>dim_0__fourier_entropy__bins_100</th>\n      <th>dim_0__permutation_entropy__dimension_3__tau_1</th>\n      <th>dim_0__permutation_entropy__dimension_4__tau_1</th>\n      <th>dim_0__permutation_entropy__dimension_5__tau_1</th>\n      <th>dim_0__permutation_entropy__dimension_6__tau_1</th>\n      <th>dim_0__permutation_entropy__dimension_7__tau_1</th>\n    </tr>\n  </thead>\n  <tbody>\n    <tr>\n      <th>0</th>\n      <td>0.0</td>\n      <td>0.0</td>\n      <td>0.0</td>\n      <td>1.0</td>\n      <td>0.000079</td>\n      <td>250.002030</td>\n      <td>0.337407</td>\n      <td>0.007011</td>\n      <td>-0.000196</td>\n      <td>0.042356</td>\n      <td>...</td>\n      <td>0.081510</td>\n      <td>0.092513</td>\n      <td>0.092513</td>\n      <td>0.204643</td>\n      <td>1.197663</td>\n      <td>1.509541</td>\n      <td>2.380924</td>\n      <td>3.141125</td>\n      <td>3.695552</td>\n      <td>4.128537</td>\n    </tr>\n    <tr>\n      <th>1</th>\n      <td>0.0</td>\n      <td>0.0</td>\n      <td>0.0</td>\n      <td>1.0</td>\n      <td>-0.000602</td>\n      <td>249.998915</td>\n      <td>0.341486</td>\n      <td>0.004775</td>\n      <td>-0.000053</td>\n      <td>-0.108700</td>\n      <td>...</td>\n      <td>0.081510</td>\n      <td>0.081510</td>\n      <td>0.127671</td>\n      <td>0.208796</td>\n      <td>1.262220</td>\n      <td>1.471214</td>\n      <td>2.266157</td>\n      <td>2.958169</td>\n      <td>3.492229</td>\n      <td>3.922921</td>\n    </tr>\n    <tr>\n      <th>2</th>\n      <td>0.0</td>\n      <td>0.0</td>\n      <td>0.0</td>\n      <td>1.0</td>\n      <td>0.000015</td>\n      <td>249.999269</td>\n      <td>0.352382</td>\n      <td>0.005700</td>\n      <td>-0.000013</td>\n      <td>-0.020305</td>\n      <td>...</td>\n      <td>0.081510</td>\n      <td>0.092513</td>\n      <td>0.092513</td>\n      <td>0.204643</td>\n      <td>1.224637</td>\n      <td>1.488539</td>\n      <td>2.241789</td>\n      <td>2.913085</td>\n      <td>3.391484</td>\n      <td>3.778937</td>\n    </tr>\n    <tr>\n      <th>3</th>\n      <td>0.0</td>\n      <td>1.0</td>\n      <td>0.0</td>\n      <td>1.0</td>\n      <td>-0.000008</td>\n      <td>249.999228</td>\n      <td>0.331796</td>\n      <td>0.004104</td>\n      <td>-0.000043</td>\n      <td>0.153360</td>\n      <td>...</td>\n      <td>0.081510</td>\n      <td>0.127671</td>\n      <td>0.173767</td>\n      <td>0.265764</td>\n      <td>1.250099</td>\n      <td>1.554067</td>\n      <td>2.472764</td>\n      <td>3.264834</td>\n      <td>3.891710</td>\n      <td>4.357888</td>\n    </tr>\n    <tr>\n      <th>4</th>\n      <td>0.0</td>\n      <td>0.0</td>\n      <td>0.0</td>\n      <td>1.0</td>\n      <td>-0.000113</td>\n      <td>250.000974</td>\n      <td>0.343240</td>\n      <td>0.004114</td>\n      <td>-0.000180</td>\n      <td>0.449820</td>\n      <td>...</td>\n      <td>0.112516</td>\n      <td>0.158612</td>\n      <td>0.239606</td>\n      <td>0.366101</td>\n      <td>2.033926</td>\n      <td>1.582302</td>\n      <td>2.572386</td>\n      <td>3.494790</td>\n      <td>4.177374</td>\n      <td>4.620139</td>\n    </tr>\n  </tbody>\n</table>\n<p>5 rows × 773 columns</p>\n</div>"
     },
     "metadata": {},
     "execution_count": 6
    }
   ],
   "source": [
    "# tf = TsFreshTransformer()\n",
    "t = TSFreshFeatureExtractor(default_fc_parameters=\"efficient\", show_warnings=False)\n",
    "Xt = t.fit_transform(X_train)\n",
    "Xt.head()"
   ]
  },
  {
   "cell_type": "markdown",
   "metadata": {},
   "source": [
    "## Using tsfresh with sktime"
   ]
  },
  {
   "cell_type": "code",
   "execution_count": 7,
   "metadata": {
    "tags": []
   },
   "outputs": [
    {
     "output_type": "stream",
     "name": "stderr",
     "text": "Feature Extraction: 100%|██████████| 5/5 [00:19&lt;00:00,  3.93s/it]\nFeature Extraction: 100%|██████████| 5/5 [00:07&lt;00:00,  1.59s/it]\n"
    },
    {
     "output_type": "execute_result",
     "data": {
      "text/plain": "0.7735849056603774"
     },
     "metadata": {},
     "execution_count": 7
    }
   ],
   "source": [
    "classifier = make_pipeline(\n",
    "    TSFreshFeatureExtractor(default_fc_parameters=\"efficient\", show_warnings=False),\n",
    "    RandomForestClassifier()\n",
    ")\n",
    "classifier.fit(X_train, y_train)\n",
    "classifier.score(X_test, y_test)"
   ]
  },
  {
   "cell_type": "markdown",
   "metadata": {},
   "source": [
    "## Multivariate time series classification data"
   ]
  },
  {
   "cell_type": "code",
   "execution_count": 8,
   "metadata": {
    "scrolled": true,
    "tags": []
   },
   "outputs": [
    {
     "output_type": "stream",
     "name": "stdout",
     "text": "(60, 6) (60,) (20, 6) (20,)\n"
    }
   ],
   "source": [
    "X, y = load_basic_motions(return_X_y=True)\n",
    "X_train, X_test, y_train, y_test = train_test_split(X, y)\n",
    "print(X_train.shape, y_train.shape, X_test.shape, y_test.shape)"
   ]
  },
  {
   "cell_type": "code",
   "execution_count": 9,
   "metadata": {
    "jupyter": {
     "outputs_hidden": false
    },
    "pycharm": {
     "name": "#%%\n"
    }
   },
   "outputs": [
    {
     "output_type": "execute_result",
     "data": {
      "text/plain": "                                                dim_0  \\\n9   0     0.126160\n1     0.126160\n2     1.771871\n3...   \n12  0      2.221946\n1      2.221946\n2     -7.70417...   \n12  0      0.841063\n1      0.841063\n2     -7.98006...   \n21  0     0.648833\n1     0.648833\n2     0.076985\n3...   \n35  0      1.102297\n1      1.102297\n2      0.73238...   \n\n                                                dim_1  \\\n9   0     0.102733\n1     0.102733\n2    -3.798484\n3...   \n12  0     -0.783638\n1     -0.783638\n2     -4.56992...   \n12  0     -0.711477\n1     -0.711477\n2    -10.17192...   \n21  0    -0.996722\n1    -0.996722\n2    -0.897264\n3...   \n35  0    -1.790773\n1    -1.790773\n2     0.661191\n3...   \n\n                                                dim_2  \\\n9   0     0.308964\n1     0.308964\n2     0.141369\n3...   \n12  0     0.142401\n1     0.142401\n2     2.447367\n3...   \n12  0    -0.070385\n1    -0.070385\n2     3.868311\n3...   \n21  0    -0.644136\n1    -0.644136\n2     0.970515\n3...   \n35  0      0.001413\n1      0.001413\n2     -1.57956...   \n\n                                                dim_3  \\\n9   0     0.002663\n1     0.002663\n2    -1.427568\n3...   \n12  0     0.055931\n1     0.055931\n2    -0.442120\n3...   \n12  0     0.314278\n1     0.314278\n2     1.483499\n3...   \n21  0    -0.101208\n1    -0.101208\n2    -0.407496\n3...   \n35  0     0.258347\n1     0.258347\n2    -0.127842\n3...   \n\n                                                dim_4  \\\n9   0     0.000000\n1     0.000000\n2    -0.167792\n3...   \n12  0     0.071911\n1     0.071911\n2     0.010653\n3...   \n12  0     0.055931\n1     0.055931\n2    -0.559308\n3...   \n21  0     0.055931\n1     0.055931\n2    -0.157139\n3...   \n35  0     -0.165129\n1     -0.165129\n2     -0.16779...   \n\n                                                dim_5  \n9   0    -0.007990\n1    -0.007990\n2    -1.643301\n3...  \n12  0     0.226387\n1     0.226387\n2    -1.978886\n3...  \n12  0     0.926854\n1     0.926854\n2    -1.297062\n3...  \n21  0    -0.031960\n1    -0.031960\n2    -0.343575\n3...  \n35  0      0.516694\n1      0.516694\n2     -0.58860...  ",
      "text/html": "<div>\n<style scoped>\n    .dataframe tbody tr th:only-of-type {\n        vertical-align: middle;\n    }\n\n    .dataframe tbody tr th {\n        vertical-align: top;\n    }\n\n    .dataframe thead th {\n        text-align: right;\n    }\n</style>\n<table border=\"1\" class=\"dataframe\">\n  <thead>\n    <tr style=\"text-align: right;\">\n      <th></th>\n      <th>dim_0</th>\n      <th>dim_1</th>\n      <th>dim_2</th>\n      <th>dim_3</th>\n      <th>dim_4</th>\n      <th>dim_5</th>\n    </tr>\n  </thead>\n  <tbody>\n    <tr>\n      <th>9</th>\n      <td>0     0.126160\n1     0.126160\n2     1.771871\n3...</td>\n      <td>0     0.102733\n1     0.102733\n2    -3.798484\n3...</td>\n      <td>0     0.308964\n1     0.308964\n2     0.141369\n3...</td>\n      <td>0     0.002663\n1     0.002663\n2    -1.427568\n3...</td>\n      <td>0     0.000000\n1     0.000000\n2    -0.167792\n3...</td>\n      <td>0    -0.007990\n1    -0.007990\n2    -1.643301\n3...</td>\n    </tr>\n    <tr>\n      <th>12</th>\n      <td>0      2.221946\n1      2.221946\n2     -7.70417...</td>\n      <td>0     -0.783638\n1     -0.783638\n2     -4.56992...</td>\n      <td>0     0.142401\n1     0.142401\n2     2.447367\n3...</td>\n      <td>0     0.055931\n1     0.055931\n2    -0.442120\n3...</td>\n      <td>0     0.071911\n1     0.071911\n2     0.010653\n3...</td>\n      <td>0     0.226387\n1     0.226387\n2    -1.978886\n3...</td>\n    </tr>\n    <tr>\n      <th>12</th>\n      <td>0      0.841063\n1      0.841063\n2     -7.98006...</td>\n      <td>0     -0.711477\n1     -0.711477\n2    -10.17192...</td>\n      <td>0    -0.070385\n1    -0.070385\n2     3.868311\n3...</td>\n      <td>0     0.314278\n1     0.314278\n2     1.483499\n3...</td>\n      <td>0     0.055931\n1     0.055931\n2    -0.559308\n3...</td>\n      <td>0     0.926854\n1     0.926854\n2    -1.297062\n3...</td>\n    </tr>\n    <tr>\n      <th>21</th>\n      <td>0     0.648833\n1     0.648833\n2     0.076985\n3...</td>\n      <td>0    -0.996722\n1    -0.996722\n2    -0.897264\n3...</td>\n      <td>0    -0.644136\n1    -0.644136\n2     0.970515\n3...</td>\n      <td>0    -0.101208\n1    -0.101208\n2    -0.407496\n3...</td>\n      <td>0     0.055931\n1     0.055931\n2    -0.157139\n3...</td>\n      <td>0    -0.031960\n1    -0.031960\n2    -0.343575\n3...</td>\n    </tr>\n    <tr>\n      <th>35</th>\n      <td>0      1.102297\n1      1.102297\n2      0.73238...</td>\n      <td>0    -1.790773\n1    -1.790773\n2     0.661191\n3...</td>\n      <td>0      0.001413\n1      0.001413\n2     -1.57956...</td>\n      <td>0     0.258347\n1     0.258347\n2    -0.127842\n3...</td>\n      <td>0     -0.165129\n1     -0.165129\n2     -0.16779...</td>\n      <td>0      0.516694\n1      0.516694\n2     -0.58860...</td>\n    </tr>\n  </tbody>\n</table>\n</div>"
     },
     "metadata": {},
     "execution_count": 9
    }
   ],
   "source": [
    "# multivariate input data\n",
    "X_train.head()"
   ]
  },
  {
   "cell_type": "code",
   "execution_count": 10,
   "metadata": {
    "scrolled": true,
    "tags": []
   },
   "outputs": [
    {
     "output_type": "stream",
     "name": "stderr",
     "text": "Feature Extraction: 100%|██████████| 5/5 [00:32&lt;00:00,  6.57s/it]\n"
    },
    {
     "output_type": "execute_result",
     "data": {
      "text/plain": "   dim_0__variance_larger_than_standard_deviation  dim_0__has_duplicate_max  \\\n0                                             0.0                       0.0   \n1                                             1.0                       0.0   \n2                                             1.0                       0.0   \n3                                             1.0                       1.0   \n4                                             1.0                       1.0   \n\n   dim_0__has_duplicate_min  dim_0__has_duplicate  dim_0__sum_values  \\\n0                       0.0                   1.0         -19.802918   \n1                       0.0                   1.0         325.639063   \n2                       0.0                   1.0         405.510867   \n3                       0.0                   1.0          57.045746   \n4                       0.0                   1.0         517.444434   \n\n   dim_0__abs_energy  dim_0__mean_abs_change  dim_0__mean_change  \\\n0           9.735453                0.153560           -0.003656   \n1       10701.446629                7.666626            0.050743   \n2       12978.929156                8.200125           -0.142016   \n3         172.027276                0.807892            0.001584   \n4        8664.940770                3.280944            0.149330   \n\n   dim_0__mean_second_derivative_central  dim_0__median  ...  \\\n0                              -0.000147      -0.248964  ...   \n1                              -0.010312       7.955648  ...   \n2                              -0.091939       8.420331  ...   \n3                               0.003131       0.422100  ...   \n4                               0.066510       2.175250  ...   \n\n   dim_5__fourier_entropy__bins_2  dim_5__fourier_entropy__bins_3  \\\n0                        0.567657                        0.866986   \n1                        0.096509                        0.096509   \n2                        0.165443                        0.165443   \n3                        0.165443                        0.165443   \n4                        0.320753                        0.493681   \n\n   dim_5__fourier_entropy__bins_5  dim_5__fourier_entropy__bins_10  \\\n0                        1.222843                         1.690099   \n1                        0.192626                         0.288342   \n2                        0.192626                         0.288342   \n3                        0.165443                         0.165443   \n4                        0.862575                         1.428808   \n\n   dim_5__fourier_entropy__bins_100  \\\n0                          3.119424   \n1                          1.745525   \n2                          0.853617   \n3                          1.241657   \n4                          3.190711   \n\n   dim_5__permutation_entropy__dimension_3__tau_1  \\\n0                                        1.585410   \n1                                        1.586272   \n2                                        1.555516   \n3                                        1.494736   \n4                                        1.725114   \n\n   dim_5__permutation_entropy__dimension_4__tau_1  \\\n0                                        2.516382   \n1                                        2.622613   \n2                                        2.517397   \n3                                        2.333086   \n4                                        2.887194   \n\n   dim_5__permutation_entropy__dimension_5__tau_1  \\\n0                                        3.382925   \n1                                        3.452515   \n2                                        3.302638   \n3                                        3.047524   \n4                                        3.883615   \n\n   dim_5__permutation_entropy__dimension_6__tau_1  \\\n0                                        3.975397   \n1                                        3.979871   \n2                                        3.867741   \n3                                        3.577109   \n4                                        4.347650   \n\n   dim_5__permutation_entropy__dimension_7__tau_1  \n0                                        4.316511  \n1                                        4.307330  \n2                                        4.202144  \n3                                        3.928619  \n4                                        4.463989  \n\n[5 rows x 4638 columns]",
      "text/html": "<div>\n<style scoped>\n    .dataframe tbody tr th:only-of-type {\n        vertical-align: middle;\n    }\n\n    .dataframe tbody tr th {\n        vertical-align: top;\n    }\n\n    .dataframe thead th {\n        text-align: right;\n    }\n</style>\n<table border=\"1\" class=\"dataframe\">\n  <thead>\n    <tr style=\"text-align: right;\">\n      <th></th>\n      <th>dim_0__variance_larger_than_standard_deviation</th>\n      <th>dim_0__has_duplicate_max</th>\n      <th>dim_0__has_duplicate_min</th>\n      <th>dim_0__has_duplicate</th>\n      <th>dim_0__sum_values</th>\n      <th>dim_0__abs_energy</th>\n      <th>dim_0__mean_abs_change</th>\n      <th>dim_0__mean_change</th>\n      <th>dim_0__mean_second_derivative_central</th>\n      <th>dim_0__median</th>\n      <th>...</th>\n      <th>dim_5__fourier_entropy__bins_2</th>\n      <th>dim_5__fourier_entropy__bins_3</th>\n      <th>dim_5__fourier_entropy__bins_5</th>\n      <th>dim_5__fourier_entropy__bins_10</th>\n      <th>dim_5__fourier_entropy__bins_100</th>\n      <th>dim_5__permutation_entropy__dimension_3__tau_1</th>\n      <th>dim_5__permutation_entropy__dimension_4__tau_1</th>\n      <th>dim_5__permutation_entropy__dimension_5__tau_1</th>\n      <th>dim_5__permutation_entropy__dimension_6__tau_1</th>\n      <th>dim_5__permutation_entropy__dimension_7__tau_1</th>\n    </tr>\n  </thead>\n  <tbody>\n    <tr>\n      <th>0</th>\n      <td>0.0</td>\n      <td>0.0</td>\n      <td>0.0</td>\n      <td>1.0</td>\n      <td>-19.802918</td>\n      <td>9.735453</td>\n      <td>0.153560</td>\n      <td>-0.003656</td>\n      <td>-0.000147</td>\n      <td>-0.248964</td>\n      <td>...</td>\n      <td>0.567657</td>\n      <td>0.866986</td>\n      <td>1.222843</td>\n      <td>1.690099</td>\n      <td>3.119424</td>\n      <td>1.585410</td>\n      <td>2.516382</td>\n      <td>3.382925</td>\n      <td>3.975397</td>\n      <td>4.316511</td>\n    </tr>\n    <tr>\n      <th>1</th>\n      <td>1.0</td>\n      <td>0.0</td>\n      <td>0.0</td>\n      <td>1.0</td>\n      <td>325.639063</td>\n      <td>10701.446629</td>\n      <td>7.666626</td>\n      <td>0.050743</td>\n      <td>-0.010312</td>\n      <td>7.955648</td>\n      <td>...</td>\n      <td>0.096509</td>\n      <td>0.096509</td>\n      <td>0.192626</td>\n      <td>0.288342</td>\n      <td>1.745525</td>\n      <td>1.586272</td>\n      <td>2.622613</td>\n      <td>3.452515</td>\n      <td>3.979871</td>\n      <td>4.307330</td>\n    </tr>\n    <tr>\n      <th>2</th>\n      <td>1.0</td>\n      <td>0.0</td>\n      <td>0.0</td>\n      <td>1.0</td>\n      <td>405.510867</td>\n      <td>12978.929156</td>\n      <td>8.200125</td>\n      <td>-0.142016</td>\n      <td>-0.091939</td>\n      <td>8.420331</td>\n      <td>...</td>\n      <td>0.165443</td>\n      <td>0.165443</td>\n      <td>0.192626</td>\n      <td>0.288342</td>\n      <td>0.853617</td>\n      <td>1.555516</td>\n      <td>2.517397</td>\n      <td>3.302638</td>\n      <td>3.867741</td>\n      <td>4.202144</td>\n    </tr>\n    <tr>\n      <th>3</th>\n      <td>1.0</td>\n      <td>1.0</td>\n      <td>0.0</td>\n      <td>1.0</td>\n      <td>57.045746</td>\n      <td>172.027276</td>\n      <td>0.807892</td>\n      <td>0.001584</td>\n      <td>0.003131</td>\n      <td>0.422100</td>\n      <td>...</td>\n      <td>0.165443</td>\n      <td>0.165443</td>\n      <td>0.165443</td>\n      <td>0.165443</td>\n      <td>1.241657</td>\n      <td>1.494736</td>\n      <td>2.333086</td>\n      <td>3.047524</td>\n      <td>3.577109</td>\n      <td>3.928619</td>\n    </tr>\n    <tr>\n      <th>4</th>\n      <td>1.0</td>\n      <td>1.0</td>\n      <td>0.0</td>\n      <td>1.0</td>\n      <td>517.444434</td>\n      <td>8664.940770</td>\n      <td>3.280944</td>\n      <td>0.149330</td>\n      <td>0.066510</td>\n      <td>2.175250</td>\n      <td>...</td>\n      <td>0.320753</td>\n      <td>0.493681</td>\n      <td>0.862575</td>\n      <td>1.428808</td>\n      <td>3.190711</td>\n      <td>1.725114</td>\n      <td>2.887194</td>\n      <td>3.883615</td>\n      <td>4.347650</td>\n      <td>4.463989</td>\n    </tr>\n  </tbody>\n</table>\n<p>5 rows × 4638 columns</p>\n</div>"
     },
     "metadata": {},
     "execution_count": 10
    }
   ],
   "source": [
    "t = TSFreshFeatureExtractor(default_fc_parameters=\"efficient\", show_warnings=False)\n",
    "Xt = t.fit_transform(X_train)\n",
    "Xt.head()"
   ]
  }
 ],
 "metadata": {
  "kernelspec": {
   "display_name": "Python 3",
   "language": "python",
   "name": "python3"
  },
  "language_info": {
   "codemirror_mode": {
    "name": "ipython",
    "version": 3
   },
   "file_extension": ".py",
   "mimetype": "text/x-python",
   "name": "python",
   "nbconvert_exporter": "python",
   "pygments_lexer": "ipython3",
   "version": "3.7.6-final"
  }
 },
 "nbformat": 4,
 "nbformat_minor": 4
}
