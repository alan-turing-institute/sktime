{
 "cells": [
  {
   "cell_type": "markdown",
   "metadata": {},
   "source": [
    "# Feature extraction with tsfresh transformer\n",
    "\n",
    "In this tutorial, we show how you can use sktime with [tsfresh](https://tsfresh.readthedocs.io) to first extract features from time series, so that we can then use any scikit-learn estimator.\n",
    "\n",
    "## Preliminaries\n",
    "You have to install tsfresh if you haven't already. To install it, uncomment the cell below:"
   ]
  },
  {
   "cell_type": "code",
   "execution_count": 1,
   "metadata": {},
   "outputs": [],
   "source": [
    "# !pip install --upgrade tsfresh"
   ]
  },
  {
   "cell_type": "code",
   "execution_count": 2,
   "metadata": {},
   "outputs": [],
   "source": [
    "import numpy as np\n",
    "from sklearn.model_selection import train_test_split\n",
    "from sklearn.ensemble import RandomForestClassifier\n",
    "from sklearn.pipeline import make_pipeline\n",
    "from sktime.datasets import load_basic_motions\n",
    "from sktime.datasets import load_arrow_head\n",
    "from sktime.transformers.series_as_features.summarize import \\\n",
    "    TSFreshFeatureExtractor"
   ]
  },
  {
   "cell_type": "markdown",
   "metadata": {},
   "source": [
    "## Univariate time series classification data\n",
    "\n",
    "For more details on the data set, see the [univariate time series classification notebook](https://github.com/alan-turing-institute/sktime/blob/master/examples/02_classification_univariate.ipynb)."
   ]
  },
  {
   "cell_type": "code",
   "execution_count": 3,
   "metadata": {},
   "outputs": [
    {
     "name": "stdout",
     "output_type": "stream",
     "text": [
      "(158, 1) (158,) (53, 1) (53,)\n"
     ]
    }
   ],
   "source": [
    "X, y = load_arrow_head(return_X_y=True)\n",
    "X_train, X_test, y_train, y_test = train_test_split(X, y)\n",
    "print(X_train.shape, y_train.shape, X_test.shape, y_test.shape)"
   ]
  },
  {
   "cell_type": "code",
   "execution_count": 4,
   "metadata": {
    "jupyter": {
     "outputs_hidden": false
    },
    "pycharm": {
     "name": "#%%\n"
    }
   },
   "outputs": [
    {
     "data": {
      "text/plain": "                                                dim_0\n17  0     -2.1788\n1     -2.1751\n2     -2.1550\n3   ...\n57  0     -1.8031\n1     -1.8010\n2     -1.7880\n3   ...\n62  0     -1.9471\n1     -1.9405\n2     -1.9224\n3   ...\n91  0     -2.0374\n1     -2.0400\n2     -2.0374\n3   ...\n37  0     -2.0220\n1     -2.0166\n2     -2.0074\n3   ...",
      "text/html": "<div>\n<style scoped>\n    .dataframe tbody tr th:only-of-type {\n        vertical-align: middle;\n    }\n\n    .dataframe tbody tr th {\n        vertical-align: top;\n    }\n\n    .dataframe thead th {\n        text-align: right;\n    }\n</style>\n<table border=\"1\" class=\"dataframe\">\n  <thead>\n    <tr style=\"text-align: right;\">\n      <th></th>\n      <th>dim_0</th>\n    </tr>\n  </thead>\n  <tbody>\n    <tr>\n      <th>17</th>\n      <td>0     -2.1788\n1     -2.1751\n2     -2.1550\n3   ...</td>\n    </tr>\n    <tr>\n      <th>57</th>\n      <td>0     -1.8031\n1     -1.8010\n2     -1.7880\n3   ...</td>\n    </tr>\n    <tr>\n      <th>62</th>\n      <td>0     -1.9471\n1     -1.9405\n2     -1.9224\n3   ...</td>\n    </tr>\n    <tr>\n      <th>91</th>\n      <td>0     -2.0374\n1     -2.0400\n2     -2.0374\n3   ...</td>\n    </tr>\n    <tr>\n      <th>37</th>\n      <td>0     -2.0220\n1     -2.0166\n2     -2.0074\n3   ...</td>\n    </tr>\n  </tbody>\n</table>\n</div>"
     },
     "execution_count": 4,
     "metadata": {},
     "output_type": "execute_result"
    }
   ],
   "source": [
    "X_train.head()"
   ]
  },
  {
   "cell_type": "code",
   "execution_count": 5,
   "metadata": {},
   "outputs": [
    {
     "data": {
      "text/plain": "array(['0', '1', '2'], dtype=object)"
     },
     "execution_count": 5,
     "metadata": {},
     "output_type": "execute_result"
    }
   ],
   "source": [
    "# binary classification task\n",
    "np.unique(y_train)"
   ]
  },
  {
   "cell_type": "markdown",
   "metadata": {},
   "source": [
    "## Using tsfresh to extract features"
   ]
  },
  {
   "cell_type": "code",
   "execution_count": 6,
   "metadata": {},
   "outputs": [
    {
     "name": "stderr",
     "output_type": "stream",
     "text": [
      "Feature Extraction: 100%|██████████| 5/5 [00:10<00:00,  2.08s/it]\n"
     ]
    },
    {
     "data": {
      "text/plain": "   dim_0__variance_larger_than_standard_deviation  dim_0__has_duplicate_max  \\\n0                                             0.0                       0.0   \n1                                             0.0                       0.0   \n2                                             0.0                       0.0   \n3                                             0.0                       0.0   \n4                                             0.0                       0.0   \n\n   dim_0__has_duplicate_min  dim_0__has_duplicate  dim_0__sum_values  \\\n0                       0.0                   1.0          -0.000050   \n1                       0.0                   1.0          -0.000191   \n2                       0.0                   1.0           0.000305   \n3                       0.0                   1.0           0.000026   \n4                       0.0                   1.0          -0.000043   \n\n   dim_0__abs_energy  dim_0__mean_abs_change  dim_0__mean_change  \\\n0         250.000350                0.351749            0.004856   \n1         249.999931                0.331637            0.005117   \n2         249.999405                0.340806            0.005083   \n3         249.999030                0.373889            0.005229   \n4         250.000079                0.355106            0.003685   \n\n   dim_0__mean_second_derivative_central  dim_0__median  ...  \\\n0                              -0.000231      -0.057820  ...   \n1                              -0.000176       0.096789  ...   \n2                              -0.000017      -0.207150  ...   \n3                              -0.000095      -0.141890  ...   \n4                              -0.000055      -0.054243  ...   \n\n   dim_0__fourier_entropy__bins_2  dim_0__fourier_entropy__bins_3  \\\n0                        0.081510                        0.081510   \n1                        0.081510                        0.081510   \n2                        0.081510                        0.081510   \n3                        0.046288                        0.092513   \n4                        0.081510                        0.081510   \n\n   dim_0__fourier_entropy__bins_5  dim_0__fourier_entropy__bins_10  \\\n0                        0.138673                         0.250609   \n1                        0.092513                         0.173767   \n2                        0.127671                         0.208796   \n3                        0.127671                         0.138673   \n4                        0.092513                         0.173767   \n\n   dim_0__fourier_entropy__bins_100  \\\n0                          1.340724   \n1                          1.228095   \n2                          1.236015   \n3                          0.810490   \n4                          1.245888   \n\n   dim_0__permutation_entropy__dimension_3__tau_1  \\\n0                                        1.568692   \n1                                        1.488603   \n2                                        1.442110   \n3                                        1.558589   \n4                                        1.478945   \n\n   dim_0__permutation_entropy__dimension_4__tau_1  \\\n0                                        2.482612   \n1                                        2.299505   \n2                                        2.198670   \n3                                        2.469680   \n4                                        2.291585   \n\n   dim_0__permutation_entropy__dimension_5__tau_1  \\\n0                                        3.225589   \n1                                        3.039764   \n2                                        2.839174   \n3                                        3.259965   \n4                                        2.962568   \n\n   dim_0__permutation_entropy__dimension_6__tau_1  \\\n0                                        3.789130   \n1                                        3.599489   \n2                                        3.320156   \n3                                        3.867521   \n4                                        3.538545   \n\n   dim_0__permutation_entropy__dimension_7__tau_1  \n0                                        4.198932  \n1                                        4.009416  \n2                                        3.675849  \n3                                        4.284652  \n4                                        4.000477  \n\n[5 rows x 773 columns]",
      "text/html": "<div>\n<style scoped>\n    .dataframe tbody tr th:only-of-type {\n        vertical-align: middle;\n    }\n\n    .dataframe tbody tr th {\n        vertical-align: top;\n    }\n\n    .dataframe thead th {\n        text-align: right;\n    }\n</style>\n<table border=\"1\" class=\"dataframe\">\n  <thead>\n    <tr style=\"text-align: right;\">\n      <th></th>\n      <th>dim_0__variance_larger_than_standard_deviation</th>\n      <th>dim_0__has_duplicate_max</th>\n      <th>dim_0__has_duplicate_min</th>\n      <th>dim_0__has_duplicate</th>\n      <th>dim_0__sum_values</th>\n      <th>dim_0__abs_energy</th>\n      <th>dim_0__mean_abs_change</th>\n      <th>dim_0__mean_change</th>\n      <th>dim_0__mean_second_derivative_central</th>\n      <th>dim_0__median</th>\n      <th>...</th>\n      <th>dim_0__fourier_entropy__bins_2</th>\n      <th>dim_0__fourier_entropy__bins_3</th>\n      <th>dim_0__fourier_entropy__bins_5</th>\n      <th>dim_0__fourier_entropy__bins_10</th>\n      <th>dim_0__fourier_entropy__bins_100</th>\n      <th>dim_0__permutation_entropy__dimension_3__tau_1</th>\n      <th>dim_0__permutation_entropy__dimension_4__tau_1</th>\n      <th>dim_0__permutation_entropy__dimension_5__tau_1</th>\n      <th>dim_0__permutation_entropy__dimension_6__tau_1</th>\n      <th>dim_0__permutation_entropy__dimension_7__tau_1</th>\n    </tr>\n  </thead>\n  <tbody>\n    <tr>\n      <th>0</th>\n      <td>0.0</td>\n      <td>0.0</td>\n      <td>0.0</td>\n      <td>1.0</td>\n      <td>-0.000050</td>\n      <td>250.000350</td>\n      <td>0.351749</td>\n      <td>0.004856</td>\n      <td>-0.000231</td>\n      <td>-0.057820</td>\n      <td>...</td>\n      <td>0.081510</td>\n      <td>0.081510</td>\n      <td>0.138673</td>\n      <td>0.250609</td>\n      <td>1.340724</td>\n      <td>1.568692</td>\n      <td>2.482612</td>\n      <td>3.225589</td>\n      <td>3.789130</td>\n      <td>4.198932</td>\n    </tr>\n    <tr>\n      <th>1</th>\n      <td>0.0</td>\n      <td>0.0</td>\n      <td>0.0</td>\n      <td>1.0</td>\n      <td>-0.000191</td>\n      <td>249.999931</td>\n      <td>0.331637</td>\n      <td>0.005117</td>\n      <td>-0.000176</td>\n      <td>0.096789</td>\n      <td>...</td>\n      <td>0.081510</td>\n      <td>0.081510</td>\n      <td>0.092513</td>\n      <td>0.173767</td>\n      <td>1.228095</td>\n      <td>1.488603</td>\n      <td>2.299505</td>\n      <td>3.039764</td>\n      <td>3.599489</td>\n      <td>4.009416</td>\n    </tr>\n    <tr>\n      <th>2</th>\n      <td>0.0</td>\n      <td>0.0</td>\n      <td>0.0</td>\n      <td>1.0</td>\n      <td>0.000305</td>\n      <td>249.999405</td>\n      <td>0.340806</td>\n      <td>0.005083</td>\n      <td>-0.000017</td>\n      <td>-0.207150</td>\n      <td>...</td>\n      <td>0.081510</td>\n      <td>0.081510</td>\n      <td>0.127671</td>\n      <td>0.208796</td>\n      <td>1.236015</td>\n      <td>1.442110</td>\n      <td>2.198670</td>\n      <td>2.839174</td>\n      <td>3.320156</td>\n      <td>3.675849</td>\n    </tr>\n    <tr>\n      <th>3</th>\n      <td>0.0</td>\n      <td>0.0</td>\n      <td>0.0</td>\n      <td>1.0</td>\n      <td>0.000026</td>\n      <td>249.999030</td>\n      <td>0.373889</td>\n      <td>0.005229</td>\n      <td>-0.000095</td>\n      <td>-0.141890</td>\n      <td>...</td>\n      <td>0.046288</td>\n      <td>0.092513</td>\n      <td>0.127671</td>\n      <td>0.138673</td>\n      <td>0.810490</td>\n      <td>1.558589</td>\n      <td>2.469680</td>\n      <td>3.259965</td>\n      <td>3.867521</td>\n      <td>4.284652</td>\n    </tr>\n    <tr>\n      <th>4</th>\n      <td>0.0</td>\n      <td>0.0</td>\n      <td>0.0</td>\n      <td>1.0</td>\n      <td>-0.000043</td>\n      <td>250.000079</td>\n      <td>0.355106</td>\n      <td>0.003685</td>\n      <td>-0.000055</td>\n      <td>-0.054243</td>\n      <td>...</td>\n      <td>0.081510</td>\n      <td>0.081510</td>\n      <td>0.092513</td>\n      <td>0.173767</td>\n      <td>1.245888</td>\n      <td>1.478945</td>\n      <td>2.291585</td>\n      <td>2.962568</td>\n      <td>3.538545</td>\n      <td>4.000477</td>\n    </tr>\n  </tbody>\n</table>\n<p>5 rows × 773 columns</p>\n</div>"
     },
     "execution_count": 6,
     "metadata": {},
     "output_type": "execute_result"
    }
   ],
   "source": [
    "# tf = TsFreshTransformer()\n",
    "t = TSFreshFeatureExtractor(default_fc_parameters=\"efficient\", show_warnings=False)\n",
    "Xt = t.fit_transform(X_train)\n",
    "Xt.head()"
   ]
  },
  {
   "cell_type": "markdown",
   "metadata": {},
   "source": [
    "## Using tsfresh with sktime"
   ]
  },
  {
   "cell_type": "code",
   "execution_count": 7,
   "metadata": {},
   "outputs": [
    {
     "name": "stderr",
     "output_type": "stream",
     "text": [
      "Feature Extraction: 100%|██████████| 5/5 [00:10<00:00,  2.07s/it]\n",
      "Feature Extraction: 100%|██████████| 5/5 [00:03<00:00,  1.47it/s]\n"
     ]
    },
    {
     "data": {
      "text/plain": "0.8867924528301887"
     },
     "execution_count": 7,
     "metadata": {},
     "output_type": "execute_result"
    }
   ],
   "source": [
    "classifier = make_pipeline(\n",
    "    TSFreshFeatureExtractor(default_fc_parameters=\"efficient\", show_warnings=False),\n",
    "    RandomForestClassifier()\n",
    ")\n",
    "classifier.fit(X_train, y_train)\n",
    "classifier.score(X_test, y_test)"
   ]
  },
  {
   "cell_type": "markdown",
   "metadata": {},
   "source": [
    "## Multivariate time series classification data"
   ]
  },
  {
   "cell_type": "code",
   "execution_count": 8,
   "metadata": {
    "scrolled": true
   },
   "outputs": [
    {
     "name": "stdout",
     "output_type": "stream",
     "text": [
      "(60, 6) (60,) (20, 6) (20,)\n"
     ]
    }
   ],
   "source": [
    "X, y = load_basic_motions(return_X_y=True)\n",
    "X_train, X_test, y_train, y_test = train_test_split(X, y)\n",
    "print(X_train.shape, y_train.shape, X_test.shape, y_test.shape)"
   ]
  },
  {
   "cell_type": "code",
   "execution_count": 9,
   "metadata": {
    "jupyter": {
     "outputs_hidden": false
    },
    "pycharm": {
     "name": "#%%\n"
    }
   },
   "outputs": [
    {
     "data": {
      "text/plain": "                                                dim_0  \\\n3   0     0.289855\n1     0.289855\n2    -0.669185\n3...   \n16  0      1.370472\n1      1.370472\n2      8.98811...   \n25  0    -0.044205\n1    -0.044205\n2    -0.878387\n3...   \n30  0    -0.623875\n1    -0.623875\n2    -1.081529\n3...   \n10  0      0.300413\n1      0.300413\n2     -1.96499...   \n\n                                                dim_1  \\\n3   0     0.284130\n1     0.284130\n2    -0.210466\n3...   \n16  0     -1.054298\n1     -1.054298\n2      7.71701...   \n25  0    -0.496912\n1    -0.496912\n2    -1.725143\n3...   \n30  0    -2.123436\n1    -2.123436\n2    -0.121519\n3...   \n10  0      0.727580\n1      0.727580\n2     -0.30055...   \n\n                                                dim_2  \\\n3   0     0.213680\n1     0.213680\n2     0.252267\n3...   \n16  0    -0.451409\n1    -0.451409\n2    -6.073897\n3...   \n25  0    -0.428723\n1    -0.428723\n2     1.558894\n3...   \n30  0    -0.513654\n1    -0.513654\n2     0.809464\n3...   \n10  0     0.878731\n1     0.878731\n2    -1.226914\n3...   \n\n                                                dim_3  \\\n3   0    -0.314278\n1    -0.314278\n2     0.018644\n3...   \n16  0    -0.306288\n1    -0.306288\n2     0.458100\n3...   \n25  0     0.620566\n1     0.620566\n2     0.082565\n3...   \n30  0    -0.143822\n1    -0.143822\n2    -1.081329\n3...   \n10  0    -0.082565\n1    -0.082565\n2    -0.631219\n3...   \n\n                                                dim_4  \\\n3   0     0.074574\n1     0.074574\n2     0.007990\n3...   \n16  0    -0.423476\n1    -0.423476\n2     0.761725\n3...   \n25  0     0.229050\n1     0.229050\n2     0.098545\n3...   \n30  0     0.058594\n1     0.058594\n2    -0.127842\n3...   \n10  0    -0.055931\n1    -0.055931\n2     0.039951\n3...   \n\n                                                dim_5  \n3   0    -0.079901\n1    -0.079901\n2     0.237040\n3...  \n16  0     0.292971\n1     0.292971\n2     2.159995\n3...  \n25  0     0.649863\n1     0.649863\n2    -0.191763\n3...  \n30  0     1.086656\n1     1.086656\n2     0.066584\n3...  \n10  0     0.668507\n1     0.668507\n2     0.130505\n3...  ",
      "text/html": "<div>\n<style scoped>\n    .dataframe tbody tr th:only-of-type {\n        vertical-align: middle;\n    }\n\n    .dataframe tbody tr th {\n        vertical-align: top;\n    }\n\n    .dataframe thead th {\n        text-align: right;\n    }\n</style>\n<table border=\"1\" class=\"dataframe\">\n  <thead>\n    <tr style=\"text-align: right;\">\n      <th></th>\n      <th>dim_0</th>\n      <th>dim_1</th>\n      <th>dim_2</th>\n      <th>dim_3</th>\n      <th>dim_4</th>\n      <th>dim_5</th>\n    </tr>\n  </thead>\n  <tbody>\n    <tr>\n      <th>3</th>\n      <td>0     0.289855\n1     0.289855\n2    -0.669185\n3...</td>\n      <td>0     0.284130\n1     0.284130\n2    -0.210466\n3...</td>\n      <td>0     0.213680\n1     0.213680\n2     0.252267\n3...</td>\n      <td>0    -0.314278\n1    -0.314278\n2     0.018644\n3...</td>\n      <td>0     0.074574\n1     0.074574\n2     0.007990\n3...</td>\n      <td>0    -0.079901\n1    -0.079901\n2     0.237040\n3...</td>\n    </tr>\n    <tr>\n      <th>16</th>\n      <td>0      1.370472\n1      1.370472\n2      8.98811...</td>\n      <td>0     -1.054298\n1     -1.054298\n2      7.71701...</td>\n      <td>0    -0.451409\n1    -0.451409\n2    -6.073897\n3...</td>\n      <td>0    -0.306288\n1    -0.306288\n2     0.458100\n3...</td>\n      <td>0    -0.423476\n1    -0.423476\n2     0.761725\n3...</td>\n      <td>0     0.292971\n1     0.292971\n2     2.159995\n3...</td>\n    </tr>\n    <tr>\n      <th>25</th>\n      <td>0    -0.044205\n1    -0.044205\n2    -0.878387\n3...</td>\n      <td>0    -0.496912\n1    -0.496912\n2    -1.725143\n3...</td>\n      <td>0    -0.428723\n1    -0.428723\n2     1.558894\n3...</td>\n      <td>0     0.620566\n1     0.620566\n2     0.082565\n3...</td>\n      <td>0     0.229050\n1     0.229050\n2     0.098545\n3...</td>\n      <td>0     0.649863\n1     0.649863\n2    -0.191763\n3...</td>\n    </tr>\n    <tr>\n      <th>30</th>\n      <td>0    -0.623875\n1    -0.623875\n2    -1.081529\n3...</td>\n      <td>0    -2.123436\n1    -2.123436\n2    -0.121519\n3...</td>\n      <td>0    -0.513654\n1    -0.513654\n2     0.809464\n3...</td>\n      <td>0    -0.143822\n1    -0.143822\n2    -1.081329\n3...</td>\n      <td>0     0.058594\n1     0.058594\n2    -0.127842\n3...</td>\n      <td>0     1.086656\n1     1.086656\n2     0.066584\n3...</td>\n    </tr>\n    <tr>\n      <th>10</th>\n      <td>0      0.300413\n1      0.300413\n2     -1.96499...</td>\n      <td>0      0.727580\n1      0.727580\n2     -0.30055...</td>\n      <td>0     0.878731\n1     0.878731\n2    -1.226914\n3...</td>\n      <td>0    -0.082565\n1    -0.082565\n2    -0.631219\n3...</td>\n      <td>0    -0.055931\n1    -0.055931\n2     0.039951\n3...</td>\n      <td>0     0.668507\n1     0.668507\n2     0.130505\n3...</td>\n    </tr>\n  </tbody>\n</table>\n</div>"
     },
     "execution_count": 9,
     "metadata": {},
     "output_type": "execute_result"
    }
   ],
   "source": [
    "# multivariate input data\n",
    "X_train.head()"
   ]
  },
  {
   "cell_type": "code",
   "execution_count": 10,
   "metadata": {
    "scrolled": true
   },
   "outputs": [
    {
     "name": "stderr",
     "output_type": "stream",
     "text": [
      "Feature Extraction: 100%|██████████| 5/5 [00:17<00:00,  3.58s/it]\n"
     ]
    },
    {
     "data": {
      "text/plain": "   dim_0__variance_larger_than_standard_deviation  dim_0__has_duplicate_max  \\\n0                                             0.0                       0.0   \n1                                             1.0                       0.0   \n2                                             1.0                       0.0   \n3                                             1.0                       0.0   \n4                                             1.0                       0.0   \n\n   dim_0__has_duplicate_min  dim_0__has_duplicate  dim_0__sum_values  \\\n0                       0.0                   1.0         -13.702903   \n1                       0.0                   1.0         525.281957   \n2                       0.0                   1.0          63.897830   \n3                       0.0                   1.0         328.868616   \n4                       1.0                   1.0         419.211878   \n\n   dim_0__abs_energy  dim_0__mean_abs_change  dim_0__mean_change  \\\n0           6.150112                0.197931           -0.005907   \n1       16841.431717                9.634983            0.122669   \n2         193.996354                0.993834            0.007989   \n3        4402.264342                3.723417            0.022200   \n4       15733.291175                8.393145           -0.141187   \n\n   dim_0__mean_second_derivative_central  dim_0__median  ...  \\\n0                              -0.001008      -0.139846  ...   \n1                               0.091556      10.755665  ...   \n2                              -0.001804       0.348779  ...   \n3                               0.005257       1.670312  ...   \n4                              -0.035830      10.172421  ...   \n\n   dim_5__fourier_entropy__bins_2  dim_5__fourier_entropy__bins_3  \\\n0                        0.223718                        0.329286   \n1                        0.096509                        0.096509   \n2                        0.165443                        0.192626   \n3                        0.494918                        0.835471   \n4                        0.165443                        0.165443   \n\n   dim_5__fourier_entropy__bins_5  dim_5__fourier_entropy__bins_10  \\\n0                        0.481199                         0.810494   \n1                        0.261160                         0.261160   \n2                        0.288342                         0.288342   \n3                        1.363540                         1.959055   \n4                        0.192626                         0.288342   \n\n   dim_5__fourier_entropy__bins_100  \\\n0                          2.345604   \n1                          1.629072   \n2                          1.250512   \n3                          3.383226   \n4                          1.609035   \n\n   dim_5__permutation_entropy__dimension_3__tau_1  \\\n0                                        1.687964   \n1                                        1.569105   \n2                                        1.642304   \n3                                        1.750982   \n4                                        1.608532   \n\n   dim_5__permutation_entropy__dimension_4__tau_1  \\\n0                                        2.744059   \n1                                        2.571916   \n2                                        2.651924   \n3                                        2.856852   \n4                                        2.688711   \n\n   dim_5__permutation_entropy__dimension_5__tau_1  \\\n0                                        3.583255   \n1                                        3.406333   \n2                                        3.509557   \n3                                        3.800627   \n4                                        3.497213   \n\n   dim_5__permutation_entropy__dimension_6__tau_1  \\\n0                                        4.040172   \n1                                        4.023954   \n2                                        4.070391   \n3                                        4.312957   \n4                                        3.988532   \n\n   dim_5__permutation_entropy__dimension_7__tau_1  \n0                                        4.296197  \n1                                        4.346007  \n2                                        4.369200  \n3                                        4.463989  \n4                                        4.240084  \n\n[5 rows x 4638 columns]",
      "text/html": "<div>\n<style scoped>\n    .dataframe tbody tr th:only-of-type {\n        vertical-align: middle;\n    }\n\n    .dataframe tbody tr th {\n        vertical-align: top;\n    }\n\n    .dataframe thead th {\n        text-align: right;\n    }\n</style>\n<table border=\"1\" class=\"dataframe\">\n  <thead>\n    <tr style=\"text-align: right;\">\n      <th></th>\n      <th>dim_0__variance_larger_than_standard_deviation</th>\n      <th>dim_0__has_duplicate_max</th>\n      <th>dim_0__has_duplicate_min</th>\n      <th>dim_0__has_duplicate</th>\n      <th>dim_0__sum_values</th>\n      <th>dim_0__abs_energy</th>\n      <th>dim_0__mean_abs_change</th>\n      <th>dim_0__mean_change</th>\n      <th>dim_0__mean_second_derivative_central</th>\n      <th>dim_0__median</th>\n      <th>...</th>\n      <th>dim_5__fourier_entropy__bins_2</th>\n      <th>dim_5__fourier_entropy__bins_3</th>\n      <th>dim_5__fourier_entropy__bins_5</th>\n      <th>dim_5__fourier_entropy__bins_10</th>\n      <th>dim_5__fourier_entropy__bins_100</th>\n      <th>dim_5__permutation_entropy__dimension_3__tau_1</th>\n      <th>dim_5__permutation_entropy__dimension_4__tau_1</th>\n      <th>dim_5__permutation_entropy__dimension_5__tau_1</th>\n      <th>dim_5__permutation_entropy__dimension_6__tau_1</th>\n      <th>dim_5__permutation_entropy__dimension_7__tau_1</th>\n    </tr>\n  </thead>\n  <tbody>\n    <tr>\n      <th>0</th>\n      <td>0.0</td>\n      <td>0.0</td>\n      <td>0.0</td>\n      <td>1.0</td>\n      <td>-13.702903</td>\n      <td>6.150112</td>\n      <td>0.197931</td>\n      <td>-0.005907</td>\n      <td>-0.001008</td>\n      <td>-0.139846</td>\n      <td>...</td>\n      <td>0.223718</td>\n      <td>0.329286</td>\n      <td>0.481199</td>\n      <td>0.810494</td>\n      <td>2.345604</td>\n      <td>1.687964</td>\n      <td>2.744059</td>\n      <td>3.583255</td>\n      <td>4.040172</td>\n      <td>4.296197</td>\n    </tr>\n    <tr>\n      <th>1</th>\n      <td>1.0</td>\n      <td>0.0</td>\n      <td>0.0</td>\n      <td>1.0</td>\n      <td>525.281957</td>\n      <td>16841.431717</td>\n      <td>9.634983</td>\n      <td>0.122669</td>\n      <td>0.091556</td>\n      <td>10.755665</td>\n      <td>...</td>\n      <td>0.096509</td>\n      <td>0.096509</td>\n      <td>0.261160</td>\n      <td>0.261160</td>\n      <td>1.629072</td>\n      <td>1.569105</td>\n      <td>2.571916</td>\n      <td>3.406333</td>\n      <td>4.023954</td>\n      <td>4.346007</td>\n    </tr>\n    <tr>\n      <th>2</th>\n      <td>1.0</td>\n      <td>0.0</td>\n      <td>0.0</td>\n      <td>1.0</td>\n      <td>63.897830</td>\n      <td>193.996354</td>\n      <td>0.993834</td>\n      <td>0.007989</td>\n      <td>-0.001804</td>\n      <td>0.348779</td>\n      <td>...</td>\n      <td>0.165443</td>\n      <td>0.192626</td>\n      <td>0.288342</td>\n      <td>0.288342</td>\n      <td>1.250512</td>\n      <td>1.642304</td>\n      <td>2.651924</td>\n      <td>3.509557</td>\n      <td>4.070391</td>\n      <td>4.369200</td>\n    </tr>\n    <tr>\n      <th>3</th>\n      <td>1.0</td>\n      <td>0.0</td>\n      <td>0.0</td>\n      <td>1.0</td>\n      <td>328.868616</td>\n      <td>4402.264342</td>\n      <td>3.723417</td>\n      <td>0.022200</td>\n      <td>0.005257</td>\n      <td>1.670312</td>\n      <td>...</td>\n      <td>0.494918</td>\n      <td>0.835471</td>\n      <td>1.363540</td>\n      <td>1.959055</td>\n      <td>3.383226</td>\n      <td>1.750982</td>\n      <td>2.856852</td>\n      <td>3.800627</td>\n      <td>4.312957</td>\n      <td>4.463989</td>\n    </tr>\n    <tr>\n      <th>4</th>\n      <td>1.0</td>\n      <td>0.0</td>\n      <td>1.0</td>\n      <td>1.0</td>\n      <td>419.211878</td>\n      <td>15733.291175</td>\n      <td>8.393145</td>\n      <td>-0.141187</td>\n      <td>-0.035830</td>\n      <td>10.172421</td>\n      <td>...</td>\n      <td>0.165443</td>\n      <td>0.165443</td>\n      <td>0.192626</td>\n      <td>0.288342</td>\n      <td>1.609035</td>\n      <td>1.608532</td>\n      <td>2.688711</td>\n      <td>3.497213</td>\n      <td>3.988532</td>\n      <td>4.240084</td>\n    </tr>\n  </tbody>\n</table>\n<p>5 rows × 4638 columns</p>\n</div>"
     },
     "execution_count": 10,
     "metadata": {},
     "output_type": "execute_result"
    }
   ],
   "source": [
    "t = TSFreshFeatureExtractor(default_fc_parameters=\"efficient\", show_warnings=False)\n",
    "Xt = t.fit_transform(X_train)\n",
    "Xt.head()"
   ]
  }
 ],
 "metadata": {
  "kernelspec": {
   "display_name": "Python 3",
   "language": "python",
   "name": "python3"
  },
  "language_info": {
   "codemirror_mode": {
    "name": "ipython",
    "version": 3
   },
   "file_extension": ".py",
   "mimetype": "text/x-python",
   "name": "python",
   "nbconvert_exporter": "python",
   "pygments_lexer": "ipython3",
   "version": "3.7.6"
  }
 },
 "nbformat": 4,
 "nbformat_minor": 4
}
