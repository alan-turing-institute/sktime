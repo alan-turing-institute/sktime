{
 "cells": [
  {
   "cell_type": "markdown",
   "metadata": {},
   "source": [
    "# Time series classification with `sktime`\n",
    "\n",
    "[Github weblink](https://github.com/alan-turing-institute/sktime/blob/dev/examples/time-series-classification_walkthrough.ipynb)"
   ]
  },
  {
   "cell_type": "markdown",
   "metadata": {},
   "source": [
    "## Preliminaries"
   ]
  },
  {
   "cell_type": "code",
   "execution_count": 1,
   "metadata": {},
   "outputs": [
    {
     "name": "stdout",
     "output_type": "stream",
     "text": [
      "0.1.0\n"
     ]
    }
   ],
   "source": [
    "import sktime\n",
    "print(sktime.__version__)"
   ]
  },
  {
   "cell_type": "markdown",
   "metadata": {},
   "source": [
    "Import classes and functions from sktime, some of them extend the familiar `sklearn` methods to the time series classification setting."
   ]
  },
  {
   "cell_type": "code",
   "execution_count": 2,
   "metadata": {},
   "outputs": [],
   "source": [
    "from sktime.highlevel import TSCTask\n",
    "from sktime.highlevel import TSCStrategy\n",
    "from sktime.transformers.compose import RowwiseTransformer\n",
    "from sktime.transformers.compose import ColumnTransformer\n",
    "from sktime.transformers.compose import Tabulariser\n",
    "from sktime.transformers.series_to_series import RandomIntervalSegmenter\n",
    "from sktime.pipeline import Pipeline\n",
    "from sktime.pipeline import FeatureUnion\n",
    "from sktime.classifiers.ensemble import TimeSeriesForestClassifier\n",
    "from sktime.datasets import load_gunpoint\n",
    "from sktime.utils.time_series import time_series_slope\n",
    "\n",
    "from statsmodels.tsa.stattools import acf\n",
    "from statsmodels.tsa.ar_model import AR\n",
    "\n",
    "from sklearn.preprocessing import FunctionTransformer\n",
    "from sklearn.tree import DecisionTreeClassifier\n",
    "from sklearn.ensemble import RandomForestClassifier\n",
    "from sklearn.metrics import accuracy_score\n",
    "\n",
    "import numpy as np\n",
    "import pandas as pd"
   ]
  },
  {
   "cell_type": "markdown",
   "metadata": {},
   "source": [
    "## Load data\n",
    "You can find more information on the dataset in the docstring of the loading function. "
   ]
  },
  {
   "cell_type": "code",
   "execution_count": 3,
   "metadata": {},
   "outputs": [],
   "source": [
    "X_train, y_train = load_gunpoint(split='TRAIN', return_X_y=True)\n",
    "X_test, y_test = load_gunpoint(split='TEST', return_X_y=True)"
   ]
  },
  {
   "cell_type": "markdown",
   "metadata": {},
   "source": [
    "Throughout `sktime`, the expected data format is a pandas DataFrame, in which single columns can contain not only primitives as for the classification labels, but also pandas Series and numpy arrays as for the time series observations. "
   ]
  },
  {
   "cell_type": "code",
   "execution_count": 4,
   "metadata": {},
   "outputs": [
    {
     "data": {
      "text/html": [
       "<div>\n",
       "<style scoped>\n",
       "    .dataframe tbody tr th:only-of-type {\n",
       "        vertical-align: middle;\n",
       "    }\n",
       "\n",
       "    .dataframe tbody tr th {\n",
       "        vertical-align: top;\n",
       "    }\n",
       "\n",
       "    .dataframe thead th {\n",
       "        text-align: right;\n",
       "    }\n",
       "</style>\n",
       "<table border=\"1\" class=\"dataframe\">\n",
       "  <thead>\n",
       "    <tr style=\"text-align: right;\">\n",
       "      <th></th>\n",
       "      <th>dim_0</th>\n",
       "    </tr>\n",
       "  </thead>\n",
       "  <tbody>\n",
       "    <tr>\n",
       "      <th>0</th>\n",
       "      <td>0     -0.64789\n",
       "1     -0.64199\n",
       "2     -0.63819\n",
       "3...</td>\n",
       "    </tr>\n",
       "    <tr>\n",
       "      <th>1</th>\n",
       "      <td>0     -0.64443\n",
       "1     -0.64540\n",
       "2     -0.64706\n",
       "3...</td>\n",
       "    </tr>\n",
       "    <tr>\n",
       "      <th>2</th>\n",
       "      <td>0     -0.77835\n",
       "1     -0.77828\n",
       "2     -0.77715\n",
       "3...</td>\n",
       "    </tr>\n",
       "    <tr>\n",
       "      <th>3</th>\n",
       "      <td>0     -0.75006\n",
       "1     -0.74810\n",
       "2     -0.74616\n",
       "3...</td>\n",
       "    </tr>\n",
       "    <tr>\n",
       "      <th>4</th>\n",
       "      <td>0     -0.59954\n",
       "1     -0.59742\n",
       "2     -0.59927\n",
       "3...</td>\n",
       "    </tr>\n",
       "  </tbody>\n",
       "</table>\n",
       "</div>"
      ],
      "text/plain": [
       "                                               dim_0\n",
       "0  0     -0.64789\n",
       "1     -0.64199\n",
       "2     -0.63819\n",
       "3...\n",
       "1  0     -0.64443\n",
       "1     -0.64540\n",
       "2     -0.64706\n",
       "3...\n",
       "2  0     -0.77835\n",
       "1     -0.77828\n",
       "2     -0.77715\n",
       "3...\n",
       "3  0     -0.75006\n",
       "1     -0.74810\n",
       "2     -0.74616\n",
       "3...\n",
       "4  0     -0.59954\n",
       "1     -0.59742\n",
       "2     -0.59927\n",
       "3..."
      ]
     },
     "execution_count": 4,
     "metadata": {},
     "output_type": "execute_result"
    }
   ],
   "source": [
    "X_train.head()"
   ]
  },
  {
   "cell_type": "markdown",
   "metadata": {},
   "source": [
    "## Low level interface"
   ]
  },
  {
   "cell_type": "markdown",
   "metadata": {},
   "source": [
    "### Fully modular time-series forest classifier (TSF)\n",
    "We can specify the time-series tree classifier as a fully modular pipeline using series-to-primitive feature extraction transformers and a final decision tree classifier."
   ]
  },
  {
   "cell_type": "code",
   "execution_count": 5,
   "metadata": {},
   "outputs": [],
   "source": [
    "steps = [\n",
    "    ('segment', RandomIntervalSegmenter(n_intervals='sqrt')),\n",
    "    ('transform', FeatureUnion([\n",
    "        ('mean', RowwiseTransformer(FunctionTransformer(func=np.mean, validate=False))),\n",
    "        ('std', RowwiseTransformer(FunctionTransformer(func=np.std, validate=False))),\n",
    "        ('slope', RowwiseTransformer(FunctionTransformer(func=time_series_slope, validate=False)))\n",
    "    ])),\n",
    "    ('clf', DecisionTreeClassifier())\n",
    "]\n",
    "base_estimator = Pipeline(steps)"
   ]
  },
  {
   "cell_type": "markdown",
   "metadata": {},
   "source": [
    "We can direclty fit and evaluate the single tree, which itself is simply a pipeline."
   ]
  },
  {
   "cell_type": "code",
   "execution_count": 6,
   "metadata": {},
   "outputs": [
    {
     "data": {
      "text/plain": [
       "0.76"
      ]
     },
     "execution_count": 6,
     "metadata": {},
     "output_type": "execute_result"
    }
   ],
   "source": [
    "base_estimator.fit(X_train, y_train)\n",
    "base_estimator.score(X_test, y_test)"
   ]
  },
  {
   "cell_type": "markdown",
   "metadata": {},
   "source": [
    "For time series forest, we can simply use the single tree as the base estimator in the forest ensemble."
   ]
  },
  {
   "cell_type": "code",
   "execution_count": 7,
   "metadata": {},
   "outputs": [],
   "source": [
    "tsf = TimeSeriesForestClassifier(base_estimator=base_estimator, \n",
    "                                 n_estimators=100,\n",
    "                                 criterion='entropy',\n",
    "                                 bootstrap=True, \n",
    "                                 oob_score=True)"
   ]
  },
  {
   "cell_type": "markdown",
   "metadata": {},
   "source": [
    "Fit and obtain the out-of-bag score:"
   ]
  },
  {
   "cell_type": "code",
   "execution_count": 8,
   "metadata": {},
   "outputs": [
    {
     "name": "stdout",
     "output_type": "stream",
     "text": [
      "1.0\n"
     ]
    }
   ],
   "source": [
    "tsf.fit(X_train, y_train)\n",
    "if tsf.oob_score:\n",
    "    print(tsf.oob_score_)"
   ]
  },
  {
   "cell_type": "code",
   "execution_count": 9,
   "metadata": {},
   "outputs": [
    {
     "data": {
      "text/plain": [
       "0.9733333333333334"
      ]
     },
     "execution_count": 9,
     "metadata": {},
     "output_type": "execute_result"
    }
   ],
   "source": [
    "tsf.score(X_test, y_test)"
   ]
  },
  {
   "cell_type": "markdown",
   "metadata": {},
   "source": [
    "### RISE\n",
    "Another popular variant of time series forest is the so-called Random Interval Spectral Ensemble (RISE), which makes use of several series-to-series feature extraction transformers, including:\n",
    "\n",
    "* Fitted auto-regressive coefficients,  \n",
    "* Estimated autocorrelation coefficients,\n",
    "* Power spectrum coefficients."
   ]
  },
  {
   "cell_type": "code",
   "execution_count": 10,
   "metadata": {},
   "outputs": [],
   "source": [
    "def ar_coefs(x, maxlag=100):\n",
    "    nlags = np.minimum(len(x) - 1, maxlag)\n",
    "    model = AR(endog=x) \n",
    "    return model.fit(maxlag=nlags, trend='nc').params\n",
    "\n",
    "def acf_coefs(x, maxlag=100):\n",
    "    nlags = np.minimum(len(x) - 1, maxlag)\n",
    "    return acf(x, nlags=nlags)\n",
    "\n",
    "def powerspectrum(x, **kwargs):\n",
    "    fft = np.fft.fft(x)\n",
    "    ps = fft.real * fft.real + fft.imag * fft.imag\n",
    "    return ps[:ps.shape[0] // 2]"
   ]
  },
  {
   "cell_type": "markdown",
   "metadata": {},
   "source": [
    "The full pipeline of a single tree in RISE is then specified as follows:"
   ]
  },
  {
   "cell_type": "code",
   "execution_count": 11,
   "metadata": {},
   "outputs": [],
   "source": [
    "steps = [\n",
    "    ('segment', RandomIntervalSegmenter(n_intervals=1, min_length=5)),\n",
    "    ('transform', FeatureUnion([\n",
    "        ('ar', RowwiseTransformer(FunctionTransformer(func=ar_coefs, validate=False))),\n",
    "        ('acf', RowwiseTransformer(FunctionTransformer(func=acf_coefs, validate=False))),\n",
    "        ('ps', RowwiseTransformer(FunctionTransformer(func=powerspectrum, validate=False)))\n",
    "    ])),\n",
    "    ('tabularise', Tabulariser()),\n",
    "    ('clf', DecisionTreeClassifier())\n",
    "\n",
    "]\n",
    "base_estimator = Pipeline(steps)"
   ]
  },
  {
   "cell_type": "code",
   "execution_count": 12,
   "metadata": {},
   "outputs": [],
   "source": [
    "rise = TimeSeriesForestClassifier(base_estimator=base_estimator,\n",
    "                                  n_estimators=50)"
   ]
  },
  {
   "cell_type": "code",
   "execution_count": 13,
   "metadata": {},
   "outputs": [],
   "source": [
    "rise.fit(X_train, y_train)\n",
    "if rise.oob_score:\n",
    "    print(rise.oob_score_)"
   ]
  },
  {
   "cell_type": "code",
   "execution_count": 14,
   "metadata": {},
   "outputs": [
    {
     "data": {
      "text/plain": [
       "0.98"
      ]
     },
     "execution_count": 14,
     "metadata": {},
     "output_type": "execute_result"
    }
   ],
   "source": [
    "rise.score(X_test, y_test)"
   ]
  },
  {
   "cell_type": "markdown",
   "metadata": {},
   "source": [
    "## High level interface \n",
    "The high level create a unified interface between different but related time series methods, while still closely following the `sklearn` estimator design whenever possible. On the high level, two new classes are introduced: \n",
    "* A *task*, which encapsulates the information about the learning task, for example the name of the target variable, and any additional necessary instructions on how to run fit and predict.\n",
    "* A *strategy* which wraps the low level estimators and takes a task and the whole dataframe as input in fit. "
   ]
  },
  {
   "cell_type": "code",
   "execution_count": 15,
   "metadata": {},
   "outputs": [],
   "source": [
    "train = load_gunpoint(split='TRAIN')\n",
    "test = load_gunpoint(split='TEST')"
   ]
  },
  {
   "cell_type": "code",
   "execution_count": 16,
   "metadata": {},
   "outputs": [],
   "source": [
    "task = TSCTask(target='class_val', metadata=train)"
   ]
  },
  {
   "cell_type": "code",
   "execution_count": 17,
   "metadata": {},
   "outputs": [],
   "source": [
    "clf = TimeSeriesForestClassifier(n_estimators=50)\n",
    "strategy = TSCStrategy(clf)"
   ]
  },
  {
   "cell_type": "markdown",
   "metadata": {},
   "source": [
    "Fit using task and training data"
   ]
  },
  {
   "cell_type": "code",
   "execution_count": 18,
   "metadata": {},
   "outputs": [
    {
     "data": {
      "text/plain": [
       "TSCStrategy(TimeSeriesForestClassifier(base_estimator=Pipeline(check_input=False, memory=None, random_state=None,\n",
       "     steps=[('transform', RandomIntervalFeatureExtractor(check_input=False,\n",
       "                features=[<function mean at 0x114293e18>, <function std at 0x114293ea0>, <function time_series_slope at 0x11c5d7488>],\n",
       "                min_length=1, n_intervals='sqrt', random_state=None)), ('clf', DecisionTreeCla...      min_weight_fraction_leaf=0.0, presort=False, random_state=None,\n",
       "            splitter='best'))]),\n",
       "      bootstrap=False, check_input=True, class_weight=None,\n",
       "      criterion='entropy', max_depth=None, max_features=None,\n",
       "      max_leaf_nodes=None, min_impurity_decrease=0.0,\n",
       "      min_impurity_split=None, min_samples_leaf=1, min_samples_split=2,\n",
       "      min_weight_fraction_leaf=0.0, n_estimators=50, n_jobs=None,\n",
       "      oob_score=False, random_state=None, verbose=0, warm_start=False))"
      ]
     },
     "execution_count": 18,
     "metadata": {},
     "output_type": "execute_result"
    }
   ],
   "source": [
    "strategy.fit(task, train)"
   ]
  },
  {
   "cell_type": "markdown",
   "metadata": {},
   "source": [
    "Predict and evaluate fitted strategy on test data"
   ]
  },
  {
   "cell_type": "code",
   "execution_count": 19,
   "metadata": {},
   "outputs": [
    {
     "data": {
      "text/plain": [
       "0.9466666666666667"
      ]
     },
     "execution_count": 19,
     "metadata": {},
     "output_type": "execute_result"
    }
   ],
   "source": [
    "y_pred = strategy.predict(test)\n",
    "y_test = test[task.target]\n",
    "accuracy_score(y_test, y_pred)"
   ]
  }
 ],
 "metadata": {
  "kernelspec": {
   "display_name": "Python 3",
   "language": "python",
   "name": "python3"
  },
  "language_info": {
   "codemirror_mode": {
    "name": "ipython",
    "version": 3
   },
   "file_extension": ".py",
   "mimetype": "text/x-python",
   "name": "python",
   "nbconvert_exporter": "python",
   "pygments_lexer": "ipython3",
   "version": "3.7.3"
  }
 },
 "nbformat": 4,
 "nbformat_minor": 2
}
