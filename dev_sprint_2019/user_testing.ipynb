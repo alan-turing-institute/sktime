{
 "cells": [
  {
   "cell_type": "markdown",
   "metadata": {},
   "source": [
    "# sktime user testing\n",
    "\n",
    "For help, see tutorial notebooks in our [example folder](https://github.com/alan-turing-institute/sktime/tree/dev/examples)."
   ]
  },
  {
   "cell_type": "markdown",
   "metadata": {},
   "source": [
    "### 1. Convert data from long format to required nested pandas DataFrame "
   ]
  },
  {
   "cell_type": "code",
   "execution_count": 1,
   "metadata": {},
   "outputs": [],
   "source": [
    "import numpy as np\n",
    "import pandas as pd\n",
    "\n",
    "def generate_example_long_table(num_cases=50, series_len=20, num_dims=2):\n",
    "    rows_per_case = series_len*num_dims\n",
    "    total_rows = num_cases*series_len*num_dims\n",
    "\n",
    "    case_ids = np.empty(total_rows, dtype=np.int)\n",
    "    idxs = np.empty(total_rows, dtype=np.int)\n",
    "    dims = np.empty(total_rows, dtype=np.int)\n",
    "    vals = np.random.rand(total_rows)\n",
    "\n",
    "    for i in range(total_rows):\n",
    "        case_ids[i] = int(i/rows_per_case)\n",
    "        rem = i%rows_per_case\n",
    "        dims[i] = int(rem/series_len)\n",
    "        idxs[i] = rem%series_len\n",
    "\n",
    "    df = pd.DataFrame()\n",
    "    df['case_id'] = pd.Series(case_ids)\n",
    "    df['dim_id'] = pd.Series(dims)\n",
    "    df['reading_id'] = pd.Series(idxs)\n",
    "    df['value'] = pd.Series(vals)\n",
    "    return df"
   ]
  },
  {
   "cell_type": "code",
   "execution_count": 2,
   "metadata": {},
   "outputs": [
    {
     "data": {
      "text/html": [
       "<div>\n",
       "<style scoped>\n",
       "    .dataframe tbody tr th:only-of-type {\n",
       "        vertical-align: middle;\n",
       "    }\n",
       "\n",
       "    .dataframe tbody tr th {\n",
       "        vertical-align: top;\n",
       "    }\n",
       "\n",
       "    .dataframe thead th {\n",
       "        text-align: right;\n",
       "    }\n",
       "</style>\n",
       "<table border=\"1\" class=\"dataframe\">\n",
       "  <thead>\n",
       "    <tr style=\"text-align: right;\">\n",
       "      <th></th>\n",
       "      <th>case_id</th>\n",
       "      <th>dim_id</th>\n",
       "      <th>reading_id</th>\n",
       "      <th>value</th>\n",
       "    </tr>\n",
       "  </thead>\n",
       "  <tbody>\n",
       "    <tr>\n",
       "      <th>0</th>\n",
       "      <td>0</td>\n",
       "      <td>0</td>\n",
       "      <td>0</td>\n",
       "      <td>0.375717</td>\n",
       "    </tr>\n",
       "    <tr>\n",
       "      <th>1</th>\n",
       "      <td>0</td>\n",
       "      <td>0</td>\n",
       "      <td>1</td>\n",
       "      <td>0.552944</td>\n",
       "    </tr>\n",
       "    <tr>\n",
       "      <th>2</th>\n",
       "      <td>0</td>\n",
       "      <td>0</td>\n",
       "      <td>2</td>\n",
       "      <td>0.287828</td>\n",
       "    </tr>\n",
       "    <tr>\n",
       "      <th>3</th>\n",
       "      <td>0</td>\n",
       "      <td>0</td>\n",
       "      <td>3</td>\n",
       "      <td>0.129098</td>\n",
       "    </tr>\n",
       "    <tr>\n",
       "      <th>4</th>\n",
       "      <td>0</td>\n",
       "      <td>0</td>\n",
       "      <td>4</td>\n",
       "      <td>0.935843</td>\n",
       "    </tr>\n",
       "  </tbody>\n",
       "</table>\n",
       "</div>"
      ],
      "text/plain": [
       "   case_id  dim_id  reading_id     value\n",
       "0        0       0           0  0.375717\n",
       "1        0       0           1  0.552944\n",
       "2        0       0           2  0.287828\n",
       "3        0       0           3  0.129098\n",
       "4        0       0           4  0.935843"
      ]
     },
     "execution_count": 2,
     "metadata": {},
     "output_type": "execute_result"
    }
   ],
   "source": [
    "long = generate_example_long_table()\n",
    "long.head()"
   ]
  },
  {
   "cell_type": "code",
   "execution_count": 5,
   "metadata": {},
   "outputs": [],
   "source": [
    "# now convert the long dataframe to the required nested wide format"
   ]
  },
  {
   "cell_type": "code",
   "execution_count": null,
   "metadata": {},
   "outputs": [],
   "source": []
  },
  {
   "cell_type": "markdown",
   "metadata": {},
   "source": [
    "### 2. Download data and run classifier\n",
    "* Download (a small) time series classification dataset from [timeseriesclassification.com](http://www.timeseriesclassification.com/dataset.php?train=%3C100&test=&leng=&class=&type=)\n",
    "* Load the dataset into memory\n",
    "* Choose a classifier from `sktime.contrib` and fit/predict on the dataset\n",
    "* Measure its accuracy"
   ]
  },
  {
   "cell_type": "code",
   "execution_count": 7,
   "metadata": {},
   "outputs": [],
   "source": [
    "from sklearn.metrics import accuracy_score"
   ]
  },
  {
   "cell_type": "code",
   "execution_count": null,
   "metadata": {},
   "outputs": [],
   "source": []
  },
  {
   "cell_type": "markdown",
   "metadata": {},
   "source": [
    "### 3. Pipelining: Build your own classifier using a pipeline (i.e. a combination of transforms and a final classifier)\n",
    "* Measure and compare the accuracy"
   ]
  },
  {
   "cell_type": "code",
   "execution_count": null,
   "metadata": {},
   "outputs": [],
   "source": []
  },
  {
   "cell_type": "markdown",
   "metadata": {},
   "source": [
    "### 4. Ensembling: Recreate time series forest with a pipeline\n",
    "* Hint: see this [notebook](https://github.com/alan-turing-institute/sktime/blob/dev/examples/time_series_classification.ipynb)\n",
    "* Measure and compare the accuracy"
   ]
  },
  {
   "cell_type": "code",
   "execution_count": null,
   "metadata": {},
   "outputs": [],
   "source": []
  },
  {
   "cell_type": "markdown",
   "metadata": {},
   "source": []
  },
  {
   "cell_type": "code",
   "execution_count": null,
   "metadata": {},
   "outputs": [],
   "source": []
  },
  {
   "cell_type": "markdown",
   "metadata": {},
   "source": [
    "### 5. Compare multiple classifiers using the sktime orchestration functionality"
   ]
  },
  {
   "cell_type": "code",
   "execution_count": 10,
   "metadata": {},
   "outputs": [],
   "source": [
    "from sktime.experiments import orchestrator"
   ]
  },
  {
   "cell_type": "code",
   "execution_count": null,
   "metadata": {},
   "outputs": [],
   "source": []
  }
 ],
 "metadata": {
  "kernelspec": {
   "display_name": "Python 3",
   "language": "python",
   "name": "python3"
  },
  "language_info": {
   "codemirror_mode": {
    "name": "ipython",
    "version": 3
   },
   "file_extension": ".py",
   "mimetype": "text/x-python",
   "name": "python",
   "nbconvert_exporter": "python",
   "pygments_lexer": "ipython3",
   "version": "3.7.3"
  }
 },
 "nbformat": 4,
 "nbformat_minor": 2
}
